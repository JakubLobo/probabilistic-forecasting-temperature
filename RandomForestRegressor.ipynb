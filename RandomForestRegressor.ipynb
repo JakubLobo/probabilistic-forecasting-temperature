{
 "cells": [
  {
   "cell_type": "code",
   "execution_count": 2,
   "id": "a04c5019-57de-41f0-898c-58546dea2498",
   "metadata": {},
   "outputs": [
    {
     "data": {
      "text/html": [
       "<style>.container { width:90% !important; }</style>"
      ],
      "text/plain": [
       "<IPython.core.display.HTML object>"
      ]
     },
     "metadata": {},
     "output_type": "display_data"
    }
   ],
   "source": [
    "from IPython.display import display, HTML;  display(HTML('<style>.container { width:90% !important; }</style>'))"
   ]
  },
  {
   "cell_type": "code",
   "execution_count": 2,
   "id": "ac838a97-f04a-4a1a-8cdd-01457edb1bc2",
   "metadata": {},
   "outputs": [],
   "source": [
    "import numpy as np\n",
    "import pandas as pd\n",
    "from sklearn.model_selection import train_test_split\n",
    "from sklearn.model_selection import GridSearchCV\n",
    "from sklearn.ensemble import RandomForestRegressor\n",
    "from sklearn.metrics import mean_absolute_error\n",
    "from sklearn.ensemble import GradientBoostingRegressor\n",
    "import xgboost as xgb"
   ]
  },
  {
   "cell_type": "code",
   "execution_count": 3,
   "id": "e1bc9d1d-6750-43f6-beb2-33c9c7eceeb6",
   "metadata": {},
   "outputs": [
    {
     "data": {
      "text/html": [
       "<div>\n",
       "<style scoped>\n",
       "    .dataframe tbody tr th:only-of-type {\n",
       "        vertical-align: middle;\n",
       "    }\n",
       "\n",
       "    .dataframe tbody tr th {\n",
       "        vertical-align: top;\n",
       "    }\n",
       "\n",
       "    .dataframe thead th {\n",
       "        text-align: right;\n",
       "    }\n",
       "</style>\n",
       "<table border=\"1\" class=\"dataframe\">\n",
       "  <thead>\n",
       "    <tr style=\"text-align: right;\">\n",
       "      <th></th>\n",
       "      <th>id</th>\n",
       "      <th>date</th>\n",
       "      <th>feature_AA</th>\n",
       "      <th>feature_AB</th>\n",
       "      <th>feature_BA</th>\n",
       "      <th>feature_BB</th>\n",
       "      <th>feature_CA</th>\n",
       "      <th>feature_CB</th>\n",
       "      <th>Temperature</th>\n",
       "    </tr>\n",
       "  </thead>\n",
       "  <tbody>\n",
       "    <tr>\n",
       "      <th>0</th>\n",
       "      <td>0</td>\n",
       "      <td>2016-07-01 00:00:00</td>\n",
       "      <td>5.827</td>\n",
       "      <td>2.009</td>\n",
       "      <td>1.599</td>\n",
       "      <td>0.462</td>\n",
       "      <td>4.203</td>\n",
       "      <td>1.340</td>\n",
       "      <td>30.531000</td>\n",
       "    </tr>\n",
       "    <tr>\n",
       "      <th>1</th>\n",
       "      <td>1</td>\n",
       "      <td>2016-07-01 00:15:00</td>\n",
       "      <td>5.760</td>\n",
       "      <td>2.076</td>\n",
       "      <td>1.492</td>\n",
       "      <td>0.426</td>\n",
       "      <td>4.264</td>\n",
       "      <td>1.401</td>\n",
       "      <td>30.459999</td>\n",
       "    </tr>\n",
       "    <tr>\n",
       "      <th>2</th>\n",
       "      <td>2</td>\n",
       "      <td>2016-07-01 00:30:00</td>\n",
       "      <td>5.760</td>\n",
       "      <td>1.942</td>\n",
       "      <td>1.492</td>\n",
       "      <td>0.391</td>\n",
       "      <td>4.234</td>\n",
       "      <td>1.310</td>\n",
       "      <td>30.038000</td>\n",
       "    </tr>\n",
       "    <tr>\n",
       "      <th>3</th>\n",
       "      <td>3</td>\n",
       "      <td>2016-07-01 00:45:00</td>\n",
       "      <td>5.760</td>\n",
       "      <td>1.942</td>\n",
       "      <td>1.492</td>\n",
       "      <td>0.426</td>\n",
       "      <td>4.234</td>\n",
       "      <td>1.310</td>\n",
       "      <td>27.013000</td>\n",
       "    </tr>\n",
       "    <tr>\n",
       "      <th>4</th>\n",
       "      <td>4</td>\n",
       "      <td>2016-07-01 01:00:00</td>\n",
       "      <td>5.693</td>\n",
       "      <td>2.076</td>\n",
       "      <td>1.492</td>\n",
       "      <td>0.426</td>\n",
       "      <td>4.142</td>\n",
       "      <td>1.371</td>\n",
       "      <td>27.787001</td>\n",
       "    </tr>\n",
       "  </tbody>\n",
       "</table>\n",
       "</div>"
      ],
      "text/plain": [
       "   id                 date  feature_AA  feature_AB  feature_BA  feature_BB  \\\n",
       "0   0  2016-07-01 00:00:00       5.827       2.009       1.599       0.462   \n",
       "1   1  2016-07-01 00:15:00       5.760       2.076       1.492       0.426   \n",
       "2   2  2016-07-01 00:30:00       5.760       1.942       1.492       0.391   \n",
       "3   3  2016-07-01 00:45:00       5.760       1.942       1.492       0.426   \n",
       "4   4  2016-07-01 01:00:00       5.693       2.076       1.492       0.426   \n",
       "\n",
       "   feature_CA  feature_CB  Temperature  \n",
       "0       4.203       1.340    30.531000  \n",
       "1       4.264       1.401    30.459999  \n",
       "2       4.234       1.310    30.038000  \n",
       "3       4.234       1.310    27.013000  \n",
       "4       4.142       1.371    27.787001  "
      ]
     },
     "execution_count": 3,
     "metadata": {},
     "output_type": "execute_result"
    }
   ],
   "source": [
    "train_df = pd.read_csv(\"data/train.csv\")\n",
    "train_df.head(5)"
   ]
  },
  {
   "cell_type": "code",
   "execution_count": 4,
   "id": "bc54d9d6-f9b8-47f2-8a1c-43f3d0ae907f",
   "metadata": {},
   "outputs": [
    {
     "data": {
      "text/plain": [
       "id             0\n",
       "date           0\n",
       "feature_AA     0\n",
       "feature_AB     0\n",
       "feature_BA     0\n",
       "feature_BB     0\n",
       "feature_CA     0\n",
       "feature_CB     0\n",
       "Temperature    0\n",
       "dtype: int64"
      ]
     },
     "execution_count": 4,
     "metadata": {},
     "output_type": "execute_result"
    }
   ],
   "source": [
    "train_df.isna().sum()"
   ]
  },
  {
   "cell_type": "code",
   "execution_count": 5,
   "id": "e21d1398-8ff7-431b-99b7-1cd58923549f",
   "metadata": {},
   "outputs": [
    {
     "data": {
      "text/html": [
       "<div>\n",
       "<style scoped>\n",
       "    .dataframe tbody tr th:only-of-type {\n",
       "        vertical-align: middle;\n",
       "    }\n",
       "\n",
       "    .dataframe tbody tr th {\n",
       "        vertical-align: top;\n",
       "    }\n",
       "\n",
       "    .dataframe thead th {\n",
       "        text-align: right;\n",
       "    }\n",
       "</style>\n",
       "<table border=\"1\" class=\"dataframe\">\n",
       "  <thead>\n",
       "    <tr style=\"text-align: right;\">\n",
       "      <th></th>\n",
       "      <th>feature_AA</th>\n",
       "      <th>feature_AB</th>\n",
       "      <th>feature_BA</th>\n",
       "      <th>feature_BB</th>\n",
       "      <th>feature_CA</th>\n",
       "      <th>feature_CB</th>\n",
       "    </tr>\n",
       "  </thead>\n",
       "  <tbody>\n",
       "    <tr>\n",
       "      <th>0</th>\n",
       "      <td>5.827</td>\n",
       "      <td>2.009</td>\n",
       "      <td>1.599</td>\n",
       "      <td>0.462</td>\n",
       "      <td>4.203</td>\n",
       "      <td>1.340</td>\n",
       "    </tr>\n",
       "    <tr>\n",
       "      <th>1</th>\n",
       "      <td>5.760</td>\n",
       "      <td>2.076</td>\n",
       "      <td>1.492</td>\n",
       "      <td>0.426</td>\n",
       "      <td>4.264</td>\n",
       "      <td>1.401</td>\n",
       "    </tr>\n",
       "  </tbody>\n",
       "</table>\n",
       "</div>"
      ],
      "text/plain": [
       "   feature_AA  feature_AB  feature_BA  feature_BB  feature_CA  feature_CB\n",
       "0       5.827       2.009       1.599       0.462       4.203       1.340\n",
       "1       5.760       2.076       1.492       0.426       4.264       1.401"
      ]
     },
     "execution_count": 5,
     "metadata": {},
     "output_type": "execute_result"
    }
   ],
   "source": [
    "train_valid_X = train_df.drop(columns=['id', 'date', 'Temperature'])\n",
    "train_valid_X.head(2)"
   ]
  },
  {
   "cell_type": "code",
   "execution_count": 6,
   "id": "4cc5de12-4132-4c51-9586-74f75a3bd94e",
   "metadata": {
    "scrolled": true
   },
   "outputs": [
    {
     "data": {
      "text/plain": [
       "0    30.531000\n",
       "1    30.459999\n",
       "2    30.038000\n",
       "3    27.013000\n",
       "4    27.787001\n",
       "Name: Temperature, dtype: float64"
      ]
     },
     "execution_count": 6,
     "metadata": {},
     "output_type": "execute_result"
    }
   ],
   "source": [
    "train_valid_y = train_df['Temperature']\n",
    "train_valid_y.head()"
   ]
  },
  {
   "cell_type": "code",
   "execution_count": 7,
   "id": "dfd13a6f-e8c9-4d18-a472-c9973b28628e",
   "metadata": {},
   "outputs": [],
   "source": [
    "X_train, X_valid, y_train, y_valid = train_test_split(train_valid_X, train_valid_y, \n",
    "                                                    test_size=0.25, random_state=1)"
   ]
  },
  {
   "cell_type": "code",
   "execution_count": 12,
   "id": "fe653034-ac72-4a58-9c10-67a980d1b948",
   "metadata": {},
   "outputs": [
    {
     "data": {
      "text/html": [
       "<style>#sk-container-id-1 {color: black;background-color: white;}#sk-container-id-1 pre{padding: 0;}#sk-container-id-1 div.sk-toggleable {background-color: white;}#sk-container-id-1 label.sk-toggleable__label {cursor: pointer;display: block;width: 100%;margin-bottom: 0;padding: 0.3em;box-sizing: border-box;text-align: center;}#sk-container-id-1 label.sk-toggleable__label-arrow:before {content: \"▸\";float: left;margin-right: 0.25em;color: #696969;}#sk-container-id-1 label.sk-toggleable__label-arrow:hover:before {color: black;}#sk-container-id-1 div.sk-estimator:hover label.sk-toggleable__label-arrow:before {color: black;}#sk-container-id-1 div.sk-toggleable__content {max-height: 0;max-width: 0;overflow: hidden;text-align: left;background-color: #f0f8ff;}#sk-container-id-1 div.sk-toggleable__content pre {margin: 0.2em;color: black;border-radius: 0.25em;background-color: #f0f8ff;}#sk-container-id-1 input.sk-toggleable__control:checked~div.sk-toggleable__content {max-height: 200px;max-width: 100%;overflow: auto;}#sk-container-id-1 input.sk-toggleable__control:checked~label.sk-toggleable__label-arrow:before {content: \"▾\";}#sk-container-id-1 div.sk-estimator input.sk-toggleable__control:checked~label.sk-toggleable__label {background-color: #d4ebff;}#sk-container-id-1 div.sk-label input.sk-toggleable__control:checked~label.sk-toggleable__label {background-color: #d4ebff;}#sk-container-id-1 input.sk-hidden--visually {border: 0;clip: rect(1px 1px 1px 1px);clip: rect(1px, 1px, 1px, 1px);height: 1px;margin: -1px;overflow: hidden;padding: 0;position: absolute;width: 1px;}#sk-container-id-1 div.sk-estimator {font-family: monospace;background-color: #f0f8ff;border: 1px dotted black;border-radius: 0.25em;box-sizing: border-box;margin-bottom: 0.5em;}#sk-container-id-1 div.sk-estimator:hover {background-color: #d4ebff;}#sk-container-id-1 div.sk-parallel-item::after {content: \"\";width: 100%;border-bottom: 1px solid gray;flex-grow: 1;}#sk-container-id-1 div.sk-label:hover label.sk-toggleable__label {background-color: #d4ebff;}#sk-container-id-1 div.sk-serial::before {content: \"\";position: absolute;border-left: 1px solid gray;box-sizing: border-box;top: 0;bottom: 0;left: 50%;z-index: 0;}#sk-container-id-1 div.sk-serial {display: flex;flex-direction: column;align-items: center;background-color: white;padding-right: 0.2em;padding-left: 0.2em;position: relative;}#sk-container-id-1 div.sk-item {position: relative;z-index: 1;}#sk-container-id-1 div.sk-parallel {display: flex;align-items: stretch;justify-content: center;background-color: white;position: relative;}#sk-container-id-1 div.sk-item::before, #sk-container-id-1 div.sk-parallel-item::before {content: \"\";position: absolute;border-left: 1px solid gray;box-sizing: border-box;top: 0;bottom: 0;left: 50%;z-index: -1;}#sk-container-id-1 div.sk-parallel-item {display: flex;flex-direction: column;z-index: 1;position: relative;background-color: white;}#sk-container-id-1 div.sk-parallel-item:first-child::after {align-self: flex-end;width: 50%;}#sk-container-id-1 div.sk-parallel-item:last-child::after {align-self: flex-start;width: 50%;}#sk-container-id-1 div.sk-parallel-item:only-child::after {width: 0;}#sk-container-id-1 div.sk-dashed-wrapped {border: 1px dashed gray;margin: 0 0.4em 0.5em 0.4em;box-sizing: border-box;padding-bottom: 0.4em;background-color: white;}#sk-container-id-1 div.sk-label label {font-family: monospace;font-weight: bold;display: inline-block;line-height: 1.2em;}#sk-container-id-1 div.sk-label-container {text-align: center;}#sk-container-id-1 div.sk-container {/* jupyter's `normalize.less` sets `[hidden] { display: none; }` but bootstrap.min.css set `[hidden] { display: none !important; }` so we also need the `!important` here to be able to override the default hidden behavior on the sphinx rendered scikit-learn.org. See: https://github.com/scikit-learn/scikit-learn/issues/21755 */display: inline-block !important;position: relative;}#sk-container-id-1 div.sk-text-repr-fallback {display: none;}</style><div id=\"sk-container-id-1\" class=\"sk-top-container\"><div class=\"sk-text-repr-fallback\"><pre>GridSearchCV(cv=10, estimator=RandomForestRegressor(),\n",
       "             param_grid={&#x27;n_estimators&#x27;: [100, 200, 300], &#x27;n_jobs&#x27;: [-1],\n",
       "                         &#x27;random_state&#x27;: [1]})</pre><b>In a Jupyter environment, please rerun this cell to show the HTML representation or trust the notebook. <br />On GitHub, the HTML representation is unable to render, please try loading this page with nbviewer.org.</b></div><div class=\"sk-container\" hidden><div class=\"sk-item sk-dashed-wrapped\"><div class=\"sk-label-container\"><div class=\"sk-label sk-toggleable\"><input class=\"sk-toggleable__control sk-hidden--visually\" id=\"sk-estimator-id-1\" type=\"checkbox\" ><label for=\"sk-estimator-id-1\" class=\"sk-toggleable__label sk-toggleable__label-arrow\">GridSearchCV</label><div class=\"sk-toggleable__content\"><pre>GridSearchCV(cv=10, estimator=RandomForestRegressor(),\n",
       "             param_grid={&#x27;n_estimators&#x27;: [100, 200, 300], &#x27;n_jobs&#x27;: [-1],\n",
       "                         &#x27;random_state&#x27;: [1]})</pre></div></div></div><div class=\"sk-parallel\"><div class=\"sk-parallel-item\"><div class=\"sk-item\"><div class=\"sk-label-container\"><div class=\"sk-label sk-toggleable\"><input class=\"sk-toggleable__control sk-hidden--visually\" id=\"sk-estimator-id-2\" type=\"checkbox\" ><label for=\"sk-estimator-id-2\" class=\"sk-toggleable__label sk-toggleable__label-arrow\">estimator: RandomForestRegressor</label><div class=\"sk-toggleable__content\"><pre>RandomForestRegressor()</pre></div></div></div><div class=\"sk-serial\"><div class=\"sk-item\"><div class=\"sk-estimator sk-toggleable\"><input class=\"sk-toggleable__control sk-hidden--visually\" id=\"sk-estimator-id-3\" type=\"checkbox\" ><label for=\"sk-estimator-id-3\" class=\"sk-toggleable__label sk-toggleable__label-arrow\">RandomForestRegressor</label><div class=\"sk-toggleable__content\"><pre>RandomForestRegressor()</pre></div></div></div></div></div></div></div></div></div></div>"
      ],
      "text/plain": [
       "GridSearchCV(cv=10, estimator=RandomForestRegressor(),\n",
       "             param_grid={'n_estimators': [100, 200, 300], 'n_jobs': [-1],\n",
       "                         'random_state': [1]})"
      ]
     },
     "execution_count": 12,
     "metadata": {},
     "output_type": "execute_result"
    }
   ],
   "source": [
    "model = RandomForestRegressor()\n",
    "\n",
    "params = {\n",
    "    'n_estimators': [100, 200, 300],\n",
    "    'n_jobs': [-1],\n",
    "    'random_state': [1]\n",
    "}\n",
    "\n",
    "gs = GridSearchCV(model, params, cv=10)\n",
    "gs.fit(X_train, y_train)"
   ]
  },
  {
   "cell_type": "code",
   "execution_count": 13,
   "id": "93fe2886-438c-403f-9e46-6199d7d67247",
   "metadata": {},
   "outputs": [
    {
     "data": {
      "text/plain": [
       "4.038773701321856"
      ]
     },
     "execution_count": 13,
     "metadata": {},
     "output_type": "execute_result"
    }
   ],
   "source": [
    "y_pred = gs.predict(X_valid)\n",
    "mean_absolute_error(y_valid, y_pred)"
   ]
  },
  {
   "cell_type": "code",
   "execution_count": 14,
   "id": "0d34cedf-f2bf-4578-b0cd-2db08c2d8f4a",
   "metadata": {},
   "outputs": [
    {
     "data": {
      "text/plain": [
       "{'n_estimators': 300, 'n_jobs': -1, 'random_state': 1}"
      ]
     },
     "execution_count": 14,
     "metadata": {},
     "output_type": "execute_result"
    }
   ],
   "source": [
    "gs.best_params_"
   ]
  },
  {
   "cell_type": "code",
   "execution_count": null,
   "id": "1c42cc9e-1909-425e-b540-8696b9b13466",
   "metadata": {},
   "outputs": [],
   "source": [
    "## kernel interrupted everytime I tried any parameters here\n",
    "model = RandomForestRegressor()\n",
    "\n",
    "params = {\n",
    "    'n_estimators': [500, 1000],\n",
    "    'n_jobs': [-1],\n",
    "    'random_state': [1]\n",
    "}\n",
    "\n",
    "gs = GridSearchCV(model, params, cv=10)\n",
    "gs.fit(X_train, y_train)"
   ]
  },
  {
   "cell_type": "code",
   "execution_count": 8,
   "id": "6b1842a7-1626-454f-98a8-379890733780",
   "metadata": {},
   "outputs": [
    {
     "data": {
      "text/html": [
       "<style>#sk-container-id-1 {color: black;background-color: white;}#sk-container-id-1 pre{padding: 0;}#sk-container-id-1 div.sk-toggleable {background-color: white;}#sk-container-id-1 label.sk-toggleable__label {cursor: pointer;display: block;width: 100%;margin-bottom: 0;padding: 0.3em;box-sizing: border-box;text-align: center;}#sk-container-id-1 label.sk-toggleable__label-arrow:before {content: \"▸\";float: left;margin-right: 0.25em;color: #696969;}#sk-container-id-1 label.sk-toggleable__label-arrow:hover:before {color: black;}#sk-container-id-1 div.sk-estimator:hover label.sk-toggleable__label-arrow:before {color: black;}#sk-container-id-1 div.sk-toggleable__content {max-height: 0;max-width: 0;overflow: hidden;text-align: left;background-color: #f0f8ff;}#sk-container-id-1 div.sk-toggleable__content pre {margin: 0.2em;color: black;border-radius: 0.25em;background-color: #f0f8ff;}#sk-container-id-1 input.sk-toggleable__control:checked~div.sk-toggleable__content {max-height: 200px;max-width: 100%;overflow: auto;}#sk-container-id-1 input.sk-toggleable__control:checked~label.sk-toggleable__label-arrow:before {content: \"▾\";}#sk-container-id-1 div.sk-estimator input.sk-toggleable__control:checked~label.sk-toggleable__label {background-color: #d4ebff;}#sk-container-id-1 div.sk-label input.sk-toggleable__control:checked~label.sk-toggleable__label {background-color: #d4ebff;}#sk-container-id-1 input.sk-hidden--visually {border: 0;clip: rect(1px 1px 1px 1px);clip: rect(1px, 1px, 1px, 1px);height: 1px;margin: -1px;overflow: hidden;padding: 0;position: absolute;width: 1px;}#sk-container-id-1 div.sk-estimator {font-family: monospace;background-color: #f0f8ff;border: 1px dotted black;border-radius: 0.25em;box-sizing: border-box;margin-bottom: 0.5em;}#sk-container-id-1 div.sk-estimator:hover {background-color: #d4ebff;}#sk-container-id-1 div.sk-parallel-item::after {content: \"\";width: 100%;border-bottom: 1px solid gray;flex-grow: 1;}#sk-container-id-1 div.sk-label:hover label.sk-toggleable__label {background-color: #d4ebff;}#sk-container-id-1 div.sk-serial::before {content: \"\";position: absolute;border-left: 1px solid gray;box-sizing: border-box;top: 0;bottom: 0;left: 50%;z-index: 0;}#sk-container-id-1 div.sk-serial {display: flex;flex-direction: column;align-items: center;background-color: white;padding-right: 0.2em;padding-left: 0.2em;position: relative;}#sk-container-id-1 div.sk-item {position: relative;z-index: 1;}#sk-container-id-1 div.sk-parallel {display: flex;align-items: stretch;justify-content: center;background-color: white;position: relative;}#sk-container-id-1 div.sk-item::before, #sk-container-id-1 div.sk-parallel-item::before {content: \"\";position: absolute;border-left: 1px solid gray;box-sizing: border-box;top: 0;bottom: 0;left: 50%;z-index: -1;}#sk-container-id-1 div.sk-parallel-item {display: flex;flex-direction: column;z-index: 1;position: relative;background-color: white;}#sk-container-id-1 div.sk-parallel-item:first-child::after {align-self: flex-end;width: 50%;}#sk-container-id-1 div.sk-parallel-item:last-child::after {align-self: flex-start;width: 50%;}#sk-container-id-1 div.sk-parallel-item:only-child::after {width: 0;}#sk-container-id-1 div.sk-dashed-wrapped {border: 1px dashed gray;margin: 0 0.4em 0.5em 0.4em;box-sizing: border-box;padding-bottom: 0.4em;background-color: white;}#sk-container-id-1 div.sk-label label {font-family: monospace;font-weight: bold;display: inline-block;line-height: 1.2em;}#sk-container-id-1 div.sk-label-container {text-align: center;}#sk-container-id-1 div.sk-container {/* jupyter's `normalize.less` sets `[hidden] { display: none; }` but bootstrap.min.css set `[hidden] { display: none !important; }` so we also need the `!important` here to be able to override the default hidden behavior on the sphinx rendered scikit-learn.org. See: https://github.com/scikit-learn/scikit-learn/issues/21755 */display: inline-block !important;position: relative;}#sk-container-id-1 div.sk-text-repr-fallback {display: none;}</style><div id=\"sk-container-id-1\" class=\"sk-top-container\"><div class=\"sk-text-repr-fallback\"><pre>RandomForestRegressor(n_estimators=1000, n_jobs=-1, random_state=0)</pre><b>In a Jupyter environment, please rerun this cell to show the HTML representation or trust the notebook. <br />On GitHub, the HTML representation is unable to render, please try loading this page with nbviewer.org.</b></div><div class=\"sk-container\" hidden><div class=\"sk-item\"><div class=\"sk-estimator sk-toggleable\"><input class=\"sk-toggleable__control sk-hidden--visually\" id=\"sk-estimator-id-1\" type=\"checkbox\" checked><label for=\"sk-estimator-id-1\" class=\"sk-toggleable__label sk-toggleable__label-arrow\">RandomForestRegressor</label><div class=\"sk-toggleable__content\"><pre>RandomForestRegressor(n_estimators=1000, n_jobs=-1, random_state=0)</pre></div></div></div></div></div>"
      ],
      "text/plain": [
       "RandomForestRegressor(n_estimators=1000, n_jobs=-1, random_state=0)"
      ]
     },
     "execution_count": 8,
     "metadata": {},
     "output_type": "execute_result"
    }
   ],
   "source": [
    "model = RandomForestRegressor(n_estimators=1000, random_state=0, n_jobs=-1)\n",
    "model.fit(X_train, y_train)"
   ]
  },
  {
   "cell_type": "code",
   "execution_count": 10,
   "id": "cccf9c9e-3b73-442a-a449-c31bbe4b7301",
   "metadata": {},
   "outputs": [
    {
     "data": {
      "text/plain": [
       "4.037001332376974"
      ]
     },
     "execution_count": 10,
     "metadata": {},
     "output_type": "execute_result"
    }
   ],
   "source": [
    "y_pred = model.predict(X_valid)\n",
    "mean_absolute_error(y_valid, y_pred)"
   ]
  },
  {
   "cell_type": "code",
   "execution_count": 12,
   "id": "59c8ff19-271e-4f36-8ec0-1f58804b8900",
   "metadata": {},
   "outputs": [
    {
     "data": {
      "text/plain": [
       "5.561582642260577"
      ]
     },
     "execution_count": 12,
     "metadata": {},
     "output_type": "execute_result"
    }
   ],
   "source": [
    "model = GradientBoostingRegressor(n_estimators=1000, learning_rate=0.01, max_features='sqrt', max_depth=2,\n",
    "                                  random_state=0, loss='absolute_error')\n",
    "\n",
    "model.fit(X_train, y_train)\n",
    "y_pred = model.predict(X_valid)\n",
    "\n",
    "mean_absolute_error(y_valid, y_pred)"
   ]
  },
  {
   "cell_type": "code",
   "execution_count": 13,
   "id": "0f53d01d-4029-474c-b642-a7801bd97d80",
   "metadata": {
    "scrolled": true
   },
   "outputs": [
    {
     "name": "stdout",
     "output_type": "stream",
     "text": [
      "Collecting xgboost\n",
      "  Using cached xgboost-2.0.3-py3-none-manylinux2014_x86_64.whl.metadata (2.0 kB)\n",
      "Requirement already satisfied: numpy in /home/kuba/anaconda3/lib/python3.11/site-packages (from xgboost) (1.26.4)\n",
      "Requirement already satisfied: scipy in /home/kuba/anaconda3/lib/python3.11/site-packages (from xgboost) (1.12.0)\n",
      "Using cached xgboost-2.0.3-py3-none-manylinux2014_x86_64.whl (297.1 MB)\n",
      "Installing collected packages: xgboost\n",
      "\u001b[31mERROR: pip's dependency resolver does not currently take into account all the packages that are installed. This behaviour is the source of the following dependency conflicts.\n",
      "evalml 0.83.0 requires catboost>=1.1.1, which is not installed.\n",
      "evalml 0.83.0 requires category-encoders<=2.5.1.post0,>=2.2.2, which is not installed.\n",
      "evalml 0.83.0 requires kaleido==0.1.0, which is not installed.\n",
      "evalml 0.83.0 requires lightgbm>=4.0.0, which is not installed.\n",
      "evalml 0.83.0 requires lime>=0.2.0.1, which is not installed.\n",
      "evalml 0.83.0 requires nlp-primitives>=2.9.0, which is not installed.\n",
      "evalml 0.83.0 requires shap>=0.42.0, which is not installed.\n",
      "evalml 0.83.0 requires sktime>=0.21.0, which is not installed.\n",
      "evalml 0.83.0 requires texttable>=1.6.2, which is not installed.\n",
      "evalml 0.83.0 requires vowpalwabbit>=8.11.0, which is not installed.\n",
      "evalml 0.83.0 requires holidays<0.21,>=0.13, but you have holidays 0.46 which is incompatible.\n",
      "evalml 0.83.0 requires pandas<2.1.0,>=1.5.0, but you have pandas 2.1.4 which is incompatible.\n",
      "evalml 0.83.0 requires scikit-learn>=1.3.0, but you have scikit-learn 1.2.2 which is incompatible.\n",
      "evalml 0.83.0 requires scipy<1.12.0,>=1.5.0, but you have scipy 1.12.0 which is incompatible.\u001b[0m\u001b[31m\n",
      "\u001b[0mSuccessfully installed xgboost-2.0.3\n"
     ]
    }
   ],
   "source": [
    "!pip install xgboost"
   ]
  },
  {
   "cell_type": "code",
   "execution_count": 17,
   "id": "88fce029-eab5-4e27-96dd-d19e12d7e20e",
   "metadata": {},
   "outputs": [
    {
     "data": {
      "text/html": [
       "<style>#sk-container-id-2 {color: black;background-color: white;}#sk-container-id-2 pre{padding: 0;}#sk-container-id-2 div.sk-toggleable {background-color: white;}#sk-container-id-2 label.sk-toggleable__label {cursor: pointer;display: block;width: 100%;margin-bottom: 0;padding: 0.3em;box-sizing: border-box;text-align: center;}#sk-container-id-2 label.sk-toggleable__label-arrow:before {content: \"▸\";float: left;margin-right: 0.25em;color: #696969;}#sk-container-id-2 label.sk-toggleable__label-arrow:hover:before {color: black;}#sk-container-id-2 div.sk-estimator:hover label.sk-toggleable__label-arrow:before {color: black;}#sk-container-id-2 div.sk-toggleable__content {max-height: 0;max-width: 0;overflow: hidden;text-align: left;background-color: #f0f8ff;}#sk-container-id-2 div.sk-toggleable__content pre {margin: 0.2em;color: black;border-radius: 0.25em;background-color: #f0f8ff;}#sk-container-id-2 input.sk-toggleable__control:checked~div.sk-toggleable__content {max-height: 200px;max-width: 100%;overflow: auto;}#sk-container-id-2 input.sk-toggleable__control:checked~label.sk-toggleable__label-arrow:before {content: \"▾\";}#sk-container-id-2 div.sk-estimator input.sk-toggleable__control:checked~label.sk-toggleable__label {background-color: #d4ebff;}#sk-container-id-2 div.sk-label input.sk-toggleable__control:checked~label.sk-toggleable__label {background-color: #d4ebff;}#sk-container-id-2 input.sk-hidden--visually {border: 0;clip: rect(1px 1px 1px 1px);clip: rect(1px, 1px, 1px, 1px);height: 1px;margin: -1px;overflow: hidden;padding: 0;position: absolute;width: 1px;}#sk-container-id-2 div.sk-estimator {font-family: monospace;background-color: #f0f8ff;border: 1px dotted black;border-radius: 0.25em;box-sizing: border-box;margin-bottom: 0.5em;}#sk-container-id-2 div.sk-estimator:hover {background-color: #d4ebff;}#sk-container-id-2 div.sk-parallel-item::after {content: \"\";width: 100%;border-bottom: 1px solid gray;flex-grow: 1;}#sk-container-id-2 div.sk-label:hover label.sk-toggleable__label {background-color: #d4ebff;}#sk-container-id-2 div.sk-serial::before {content: \"\";position: absolute;border-left: 1px solid gray;box-sizing: border-box;top: 0;bottom: 0;left: 50%;z-index: 0;}#sk-container-id-2 div.sk-serial {display: flex;flex-direction: column;align-items: center;background-color: white;padding-right: 0.2em;padding-left: 0.2em;position: relative;}#sk-container-id-2 div.sk-item {position: relative;z-index: 1;}#sk-container-id-2 div.sk-parallel {display: flex;align-items: stretch;justify-content: center;background-color: white;position: relative;}#sk-container-id-2 div.sk-item::before, #sk-container-id-2 div.sk-parallel-item::before {content: \"\";position: absolute;border-left: 1px solid gray;box-sizing: border-box;top: 0;bottom: 0;left: 50%;z-index: -1;}#sk-container-id-2 div.sk-parallel-item {display: flex;flex-direction: column;z-index: 1;position: relative;background-color: white;}#sk-container-id-2 div.sk-parallel-item:first-child::after {align-self: flex-end;width: 50%;}#sk-container-id-2 div.sk-parallel-item:last-child::after {align-self: flex-start;width: 50%;}#sk-container-id-2 div.sk-parallel-item:only-child::after {width: 0;}#sk-container-id-2 div.sk-dashed-wrapped {border: 1px dashed gray;margin: 0 0.4em 0.5em 0.4em;box-sizing: border-box;padding-bottom: 0.4em;background-color: white;}#sk-container-id-2 div.sk-label label {font-family: monospace;font-weight: bold;display: inline-block;line-height: 1.2em;}#sk-container-id-2 div.sk-label-container {text-align: center;}#sk-container-id-2 div.sk-container {/* jupyter's `normalize.less` sets `[hidden] { display: none; }` but bootstrap.min.css set `[hidden] { display: none !important; }` so we also need the `!important` here to be able to override the default hidden behavior on the sphinx rendered scikit-learn.org. See: https://github.com/scikit-learn/scikit-learn/issues/21755 */display: inline-block !important;position: relative;}#sk-container-id-2 div.sk-text-repr-fallback {display: none;}</style><div id=\"sk-container-id-2\" class=\"sk-top-container\"><div class=\"sk-text-repr-fallback\"><pre>GridSearchCV(cv=10,\n",
       "             estimator=XGBRegressor(base_score=None, booster=None,\n",
       "                                    callbacks=None, colsample_bylevel=None,\n",
       "                                    colsample_bynode=None,\n",
       "                                    colsample_bytree=None, device=None,\n",
       "                                    early_stopping_rounds=None,\n",
       "                                    enable_categorical=False, eval_metric=None,\n",
       "                                    feature_types=None, gamma=None,\n",
       "                                    grow_policy=None, importance_type=None,\n",
       "                                    interaction_constraints=None,\n",
       "                                    learning_rate=None,...,\n",
       "                                    max_cat_threshold=None,\n",
       "                                    max_cat_to_onehot=None, max_delta_step=None,\n",
       "                                    max_depth=None, max_leaves=None,\n",
       "                                    min_child_weight=None, missing=nan,\n",
       "                                    monotone_constraints=None,\n",
       "                                    multi_strategy=None, n_estimators=None,\n",
       "                                    n_jobs=None, num_parallel_tree=None,\n",
       "                                    random_state=None, ...),\n",
       "             param_grid={&#x27;learning_rate&#x27;: [0.1, 0.01, 0.001],\n",
       "                         &#x27;max_depth&#x27;: [3, 5, 7],\n",
       "                         &#x27;n_estimators&#x27;: [100, 500, 1000]})</pre><b>In a Jupyter environment, please rerun this cell to show the HTML representation or trust the notebook. <br />On GitHub, the HTML representation is unable to render, please try loading this page with nbviewer.org.</b></div><div class=\"sk-container\" hidden><div class=\"sk-item sk-dashed-wrapped\"><div class=\"sk-label-container\"><div class=\"sk-label sk-toggleable\"><input class=\"sk-toggleable__control sk-hidden--visually\" id=\"sk-estimator-id-2\" type=\"checkbox\" ><label for=\"sk-estimator-id-2\" class=\"sk-toggleable__label sk-toggleable__label-arrow\">GridSearchCV</label><div class=\"sk-toggleable__content\"><pre>GridSearchCV(cv=10,\n",
       "             estimator=XGBRegressor(base_score=None, booster=None,\n",
       "                                    callbacks=None, colsample_bylevel=None,\n",
       "                                    colsample_bynode=None,\n",
       "                                    colsample_bytree=None, device=None,\n",
       "                                    early_stopping_rounds=None,\n",
       "                                    enable_categorical=False, eval_metric=None,\n",
       "                                    feature_types=None, gamma=None,\n",
       "                                    grow_policy=None, importance_type=None,\n",
       "                                    interaction_constraints=None,\n",
       "                                    learning_rate=None,...,\n",
       "                                    max_cat_threshold=None,\n",
       "                                    max_cat_to_onehot=None, max_delta_step=None,\n",
       "                                    max_depth=None, max_leaves=None,\n",
       "                                    min_child_weight=None, missing=nan,\n",
       "                                    monotone_constraints=None,\n",
       "                                    multi_strategy=None, n_estimators=None,\n",
       "                                    n_jobs=None, num_parallel_tree=None,\n",
       "                                    random_state=None, ...),\n",
       "             param_grid={&#x27;learning_rate&#x27;: [0.1, 0.01, 0.001],\n",
       "                         &#x27;max_depth&#x27;: [3, 5, 7],\n",
       "                         &#x27;n_estimators&#x27;: [100, 500, 1000]})</pre></div></div></div><div class=\"sk-parallel\"><div class=\"sk-parallel-item\"><div class=\"sk-item\"><div class=\"sk-label-container\"><div class=\"sk-label sk-toggleable\"><input class=\"sk-toggleable__control sk-hidden--visually\" id=\"sk-estimator-id-3\" type=\"checkbox\" ><label for=\"sk-estimator-id-3\" class=\"sk-toggleable__label sk-toggleable__label-arrow\">estimator: XGBRegressor</label><div class=\"sk-toggleable__content\"><pre>XGBRegressor(base_score=None, booster=None, callbacks=None,\n",
       "             colsample_bylevel=None, colsample_bynode=None,\n",
       "             colsample_bytree=None, device=None, early_stopping_rounds=None,\n",
       "             enable_categorical=False, eval_metric=None, feature_types=None,\n",
       "             gamma=None, grow_policy=None, importance_type=None,\n",
       "             interaction_constraints=None, learning_rate=None, max_bin=None,\n",
       "             max_cat_threshold=None, max_cat_to_onehot=None,\n",
       "             max_delta_step=None, max_depth=None, max_leaves=None,\n",
       "             min_child_weight=None, missing=nan, monotone_constraints=None,\n",
       "             multi_strategy=None, n_estimators=None, n_jobs=None,\n",
       "             num_parallel_tree=None, random_state=None, ...)</pre></div></div></div><div class=\"sk-serial\"><div class=\"sk-item\"><div class=\"sk-estimator sk-toggleable\"><input class=\"sk-toggleable__control sk-hidden--visually\" id=\"sk-estimator-id-4\" type=\"checkbox\" ><label for=\"sk-estimator-id-4\" class=\"sk-toggleable__label sk-toggleable__label-arrow\">XGBRegressor</label><div class=\"sk-toggleable__content\"><pre>XGBRegressor(base_score=None, booster=None, callbacks=None,\n",
       "             colsample_bylevel=None, colsample_bynode=None,\n",
       "             colsample_bytree=None, device=None, early_stopping_rounds=None,\n",
       "             enable_categorical=False, eval_metric=None, feature_types=None,\n",
       "             gamma=None, grow_policy=None, importance_type=None,\n",
       "             interaction_constraints=None, learning_rate=None, max_bin=None,\n",
       "             max_cat_threshold=None, max_cat_to_onehot=None,\n",
       "             max_delta_step=None, max_depth=None, max_leaves=None,\n",
       "             min_child_weight=None, missing=nan, monotone_constraints=None,\n",
       "             multi_strategy=None, n_estimators=None, n_jobs=None,\n",
       "             num_parallel_tree=None, random_state=None, ...)</pre></div></div></div></div></div></div></div></div></div></div>"
      ],
      "text/plain": [
       "GridSearchCV(cv=10,\n",
       "             estimator=XGBRegressor(base_score=None, booster=None,\n",
       "                                    callbacks=None, colsample_bylevel=None,\n",
       "                                    colsample_bynode=None,\n",
       "                                    colsample_bytree=None, device=None,\n",
       "                                    early_stopping_rounds=None,\n",
       "                                    enable_categorical=False, eval_metric=None,\n",
       "                                    feature_types=None, gamma=None,\n",
       "                                    grow_policy=None, importance_type=None,\n",
       "                                    interaction_constraints=None,\n",
       "                                    learning_rate=None,...,\n",
       "                                    max_cat_threshold=None,\n",
       "                                    max_cat_to_onehot=None, max_delta_step=None,\n",
       "                                    max_depth=None, max_leaves=None,\n",
       "                                    min_child_weight=None, missing=nan,\n",
       "                                    monotone_constraints=None,\n",
       "                                    multi_strategy=None, n_estimators=None,\n",
       "                                    n_jobs=None, num_parallel_tree=None,\n",
       "                                    random_state=None, ...),\n",
       "             param_grid={'learning_rate': [0.1, 0.01, 0.001],\n",
       "                         'max_depth': [3, 5, 7],\n",
       "                         'n_estimators': [100, 500, 1000]})"
      ]
     },
     "execution_count": 17,
     "metadata": {},
     "output_type": "execute_result"
    }
   ],
   "source": [
    "model = xgb.XGBRegressor()\n",
    "\n",
    "params = {\n",
    "    'max_depth': [3, 5, 7],\n",
    "    'learning_rate': [0.1, 0.01, 0.001],\n",
    "    'n_estimators': [100, 500, 1000]\n",
    "}\n",
    "\n",
    "gs = GridSearchCV(model, params, cv=10)\n",
    "gs.fit(X_train, y_train)"
   ]
  },
  {
   "cell_type": "code",
   "execution_count": 19,
   "id": "60f680b3-c76d-4ea0-ac62-2cc608014730",
   "metadata": {},
   "outputs": [
    {
     "data": {
      "text/plain": [
       "4.228354991478789"
      ]
     },
     "execution_count": 19,
     "metadata": {},
     "output_type": "execute_result"
    }
   ],
   "source": [
    "y_pred = gs.predict(X_valid)\n",
    "mean_absolute_error(y_valid, y_pred)"
   ]
  },
  {
   "cell_type": "markdown",
   "id": "7e33465f-1597-4c30-9599-73819802f05d",
   "metadata": {},
   "source": [
    "### Best model was:\n",
    "model = RandomForestRegressor(n_estimators=1000, random_state=0, n_jobs=-1)\n",
    "model.fit(X_train, y_train)"
   ]
  },
  {
   "cell_type": "code",
   "execution_count": 8,
   "id": "2e4896ad-0825-465b-a541-6b476e4bc5b4",
   "metadata": {},
   "outputs": [
    {
     "data": {
      "text/html": [
       "<style>#sk-container-id-1 {color: black;background-color: white;}#sk-container-id-1 pre{padding: 0;}#sk-container-id-1 div.sk-toggleable {background-color: white;}#sk-container-id-1 label.sk-toggleable__label {cursor: pointer;display: block;width: 100%;margin-bottom: 0;padding: 0.3em;box-sizing: border-box;text-align: center;}#sk-container-id-1 label.sk-toggleable__label-arrow:before {content: \"▸\";float: left;margin-right: 0.25em;color: #696969;}#sk-container-id-1 label.sk-toggleable__label-arrow:hover:before {color: black;}#sk-container-id-1 div.sk-estimator:hover label.sk-toggleable__label-arrow:before {color: black;}#sk-container-id-1 div.sk-toggleable__content {max-height: 0;max-width: 0;overflow: hidden;text-align: left;background-color: #f0f8ff;}#sk-container-id-1 div.sk-toggleable__content pre {margin: 0.2em;color: black;border-radius: 0.25em;background-color: #f0f8ff;}#sk-container-id-1 input.sk-toggleable__control:checked~div.sk-toggleable__content {max-height: 200px;max-width: 100%;overflow: auto;}#sk-container-id-1 input.sk-toggleable__control:checked~label.sk-toggleable__label-arrow:before {content: \"▾\";}#sk-container-id-1 div.sk-estimator input.sk-toggleable__control:checked~label.sk-toggleable__label {background-color: #d4ebff;}#sk-container-id-1 div.sk-label input.sk-toggleable__control:checked~label.sk-toggleable__label {background-color: #d4ebff;}#sk-container-id-1 input.sk-hidden--visually {border: 0;clip: rect(1px 1px 1px 1px);clip: rect(1px, 1px, 1px, 1px);height: 1px;margin: -1px;overflow: hidden;padding: 0;position: absolute;width: 1px;}#sk-container-id-1 div.sk-estimator {font-family: monospace;background-color: #f0f8ff;border: 1px dotted black;border-radius: 0.25em;box-sizing: border-box;margin-bottom: 0.5em;}#sk-container-id-1 div.sk-estimator:hover {background-color: #d4ebff;}#sk-container-id-1 div.sk-parallel-item::after {content: \"\";width: 100%;border-bottom: 1px solid gray;flex-grow: 1;}#sk-container-id-1 div.sk-label:hover label.sk-toggleable__label {background-color: #d4ebff;}#sk-container-id-1 div.sk-serial::before {content: \"\";position: absolute;border-left: 1px solid gray;box-sizing: border-box;top: 0;bottom: 0;left: 50%;z-index: 0;}#sk-container-id-1 div.sk-serial {display: flex;flex-direction: column;align-items: center;background-color: white;padding-right: 0.2em;padding-left: 0.2em;position: relative;}#sk-container-id-1 div.sk-item {position: relative;z-index: 1;}#sk-container-id-1 div.sk-parallel {display: flex;align-items: stretch;justify-content: center;background-color: white;position: relative;}#sk-container-id-1 div.sk-item::before, #sk-container-id-1 div.sk-parallel-item::before {content: \"\";position: absolute;border-left: 1px solid gray;box-sizing: border-box;top: 0;bottom: 0;left: 50%;z-index: -1;}#sk-container-id-1 div.sk-parallel-item {display: flex;flex-direction: column;z-index: 1;position: relative;background-color: white;}#sk-container-id-1 div.sk-parallel-item:first-child::after {align-self: flex-end;width: 50%;}#sk-container-id-1 div.sk-parallel-item:last-child::after {align-self: flex-start;width: 50%;}#sk-container-id-1 div.sk-parallel-item:only-child::after {width: 0;}#sk-container-id-1 div.sk-dashed-wrapped {border: 1px dashed gray;margin: 0 0.4em 0.5em 0.4em;box-sizing: border-box;padding-bottom: 0.4em;background-color: white;}#sk-container-id-1 div.sk-label label {font-family: monospace;font-weight: bold;display: inline-block;line-height: 1.2em;}#sk-container-id-1 div.sk-label-container {text-align: center;}#sk-container-id-1 div.sk-container {/* jupyter's `normalize.less` sets `[hidden] { display: none; }` but bootstrap.min.css set `[hidden] { display: none !important; }` so we also need the `!important` here to be able to override the default hidden behavior on the sphinx rendered scikit-learn.org. See: https://github.com/scikit-learn/scikit-learn/issues/21755 */display: inline-block !important;position: relative;}#sk-container-id-1 div.sk-text-repr-fallback {display: none;}</style><div id=\"sk-container-id-1\" class=\"sk-top-container\"><div class=\"sk-text-repr-fallback\"><pre>RandomForestRegressor(n_estimators=300, n_jobs=-1, random_state=0)</pre><b>In a Jupyter environment, please rerun this cell to show the HTML representation or trust the notebook. <br />On GitHub, the HTML representation is unable to render, please try loading this page with nbviewer.org.</b></div><div class=\"sk-container\" hidden><div class=\"sk-item\"><div class=\"sk-estimator sk-toggleable\"><input class=\"sk-toggleable__control sk-hidden--visually\" id=\"sk-estimator-id-1\" type=\"checkbox\" checked><label for=\"sk-estimator-id-1\" class=\"sk-toggleable__label sk-toggleable__label-arrow\">RandomForestRegressor</label><div class=\"sk-toggleable__content\"><pre>RandomForestRegressor(n_estimators=300, n_jobs=-1, random_state=0)</pre></div></div></div></div></div>"
      ],
      "text/plain": [
       "RandomForestRegressor(n_estimators=300, n_jobs=-1, random_state=0)"
      ]
     },
     "execution_count": 8,
     "metadata": {},
     "output_type": "execute_result"
    }
   ],
   "source": [
    "model = RandomForestRegressor(n_estimators=300, random_state=0, n_jobs=-1)\n",
    "model.fit(X_train, y_train)"
   ]
  },
  {
   "cell_type": "code",
   "execution_count": 11,
   "id": "6c1b2291-38d6-42e4-81fd-e3188703b589",
   "metadata": {},
   "outputs": [
    {
     "data": {
      "text/html": [
       "<div>\n",
       "<style scoped>\n",
       "    .dataframe tbody tr th:only-of-type {\n",
       "        vertical-align: middle;\n",
       "    }\n",
       "\n",
       "    .dataframe tbody tr th {\n",
       "        vertical-align: top;\n",
       "    }\n",
       "\n",
       "    .dataframe thead th {\n",
       "        text-align: right;\n",
       "    }\n",
       "</style>\n",
       "<table border=\"1\" class=\"dataframe\">\n",
       "  <thead>\n",
       "    <tr style=\"text-align: right;\">\n",
       "      <th></th>\n",
       "      <th>id</th>\n",
       "      <th>date</th>\n",
       "      <th>feature_AA</th>\n",
       "      <th>feature_AB</th>\n",
       "      <th>feature_BA</th>\n",
       "      <th>feature_BB</th>\n",
       "      <th>feature_CA</th>\n",
       "      <th>feature_CB</th>\n",
       "    </tr>\n",
       "  </thead>\n",
       "  <tbody>\n",
       "    <tr>\n",
       "      <th>0</th>\n",
       "      <td>64320</td>\n",
       "      <td>2018-05-02 00:00:00</td>\n",
       "      <td>14.133</td>\n",
       "      <td>2.076</td>\n",
       "      <td>9.346</td>\n",
       "      <td>-0.036</td>\n",
       "      <td>4.538</td>\n",
       "      <td>1.279</td>\n",
       "    </tr>\n",
       "    <tr>\n",
       "      <th>1</th>\n",
       "      <td>64321</td>\n",
       "      <td>2018-05-02 00:15:00</td>\n",
       "      <td>12.123</td>\n",
       "      <td>1.541</td>\n",
       "      <td>7.818</td>\n",
       "      <td>-0.746</td>\n",
       "      <td>4.538</td>\n",
       "      <td>1.249</td>\n",
       "    </tr>\n",
       "  </tbody>\n",
       "</table>\n",
       "</div>"
      ],
      "text/plain": [
       "      id                 date  feature_AA  feature_AB  feature_BA  feature_BB  \\\n",
       "0  64320  2018-05-02 00:00:00      14.133       2.076       9.346      -0.036   \n",
       "1  64321  2018-05-02 00:15:00      12.123       1.541       7.818      -0.746   \n",
       "\n",
       "   feature_CA  feature_CB  \n",
       "0       4.538       1.279  \n",
       "1       4.538       1.249  "
      ]
     },
     "execution_count": 11,
     "metadata": {},
     "output_type": "execute_result"
    }
   ],
   "source": [
    "test_df = pd.read_csv(\"data/test.csv\")\n",
    "test_df.head(2)"
   ]
  },
  {
   "cell_type": "code",
   "execution_count": 12,
   "id": "6f2a5723-902e-4c94-9911-c5f1e7d748e9",
   "metadata": {},
   "outputs": [
    {
     "data": {
      "text/html": [
       "<div>\n",
       "<style scoped>\n",
       "    .dataframe tbody tr th:only-of-type {\n",
       "        vertical-align: middle;\n",
       "    }\n",
       "\n",
       "    .dataframe tbody tr th {\n",
       "        vertical-align: top;\n",
       "    }\n",
       "\n",
       "    .dataframe thead th {\n",
       "        text-align: right;\n",
       "    }\n",
       "</style>\n",
       "<table border=\"1\" class=\"dataframe\">\n",
       "  <thead>\n",
       "    <tr style=\"text-align: right;\">\n",
       "      <th></th>\n",
       "      <th>feature_AA</th>\n",
       "      <th>feature_AB</th>\n",
       "      <th>feature_BA</th>\n",
       "      <th>feature_BB</th>\n",
       "      <th>feature_CA</th>\n",
       "      <th>feature_CB</th>\n",
       "    </tr>\n",
       "  </thead>\n",
       "  <tbody>\n",
       "    <tr>\n",
       "      <th>0</th>\n",
       "      <td>14.133</td>\n",
       "      <td>2.076</td>\n",
       "      <td>9.346</td>\n",
       "      <td>-0.036</td>\n",
       "      <td>4.538</td>\n",
       "      <td>1.279</td>\n",
       "    </tr>\n",
       "    <tr>\n",
       "      <th>1</th>\n",
       "      <td>12.123</td>\n",
       "      <td>1.541</td>\n",
       "      <td>7.818</td>\n",
       "      <td>-0.746</td>\n",
       "      <td>4.538</td>\n",
       "      <td>1.249</td>\n",
       "    </tr>\n",
       "  </tbody>\n",
       "</table>\n",
       "</div>"
      ],
      "text/plain": [
       "   feature_AA  feature_AB  feature_BA  feature_BB  feature_CA  feature_CB\n",
       "0      14.133       2.076       9.346      -0.036       4.538       1.279\n",
       "1      12.123       1.541       7.818      -0.746       4.538       1.249"
      ]
     },
     "execution_count": 12,
     "metadata": {},
     "output_type": "execute_result"
    }
   ],
   "source": [
    "test_X = test_df[[feature for feature in test_df.columns if feature.startswith(\"feature\")]]\n",
    "test_X.head(2)"
   ]
  },
  {
   "cell_type": "code",
   "execution_count": 13,
   "id": "6c82c4d8-dbc9-4ca5-8a10-ee25cfa9dcf8",
   "metadata": {},
   "outputs": [
    {
     "data": {
      "text/plain": [
       "[DecisionTreeRegressor(max_features=1.0, random_state=209652396),\n",
       " DecisionTreeRegressor(max_features=1.0, random_state=398764591),\n",
       " DecisionTreeRegressor(max_features=1.0, random_state=924231285),\n",
       " DecisionTreeRegressor(max_features=1.0, random_state=1478610112),\n",
       " DecisionTreeRegressor(max_features=1.0, random_state=441365315),\n",
       " DecisionTreeRegressor(max_features=1.0, random_state=1537364731),\n",
       " DecisionTreeRegressor(max_features=1.0, random_state=192771779),\n",
       " DecisionTreeRegressor(max_features=1.0, random_state=1491434855),\n",
       " DecisionTreeRegressor(max_features=1.0, random_state=1819583497),\n",
       " DecisionTreeRegressor(max_features=1.0, random_state=530702035),\n",
       " DecisionTreeRegressor(max_features=1.0, random_state=626610453),\n",
       " DecisionTreeRegressor(max_features=1.0, random_state=1650906866),\n",
       " DecisionTreeRegressor(max_features=1.0, random_state=1879422756),\n",
       " DecisionTreeRegressor(max_features=1.0, random_state=1277901399),\n",
       " DecisionTreeRegressor(max_features=1.0, random_state=1682652230),\n",
       " DecisionTreeRegressor(max_features=1.0, random_state=243580376),\n",
       " DecisionTreeRegressor(max_features=1.0, random_state=1991416408),\n",
       " DecisionTreeRegressor(max_features=1.0, random_state=1171049868),\n",
       " DecisionTreeRegressor(max_features=1.0, random_state=1646868794),\n",
       " DecisionTreeRegressor(max_features=1.0, random_state=2051556033),\n",
       " DecisionTreeRegressor(max_features=1.0, random_state=1252949478),\n",
       " DecisionTreeRegressor(max_features=1.0, random_state=1340754471),\n",
       " DecisionTreeRegressor(max_features=1.0, random_state=124102743),\n",
       " DecisionTreeRegressor(max_features=1.0, random_state=2061486254),\n",
       " DecisionTreeRegressor(max_features=1.0, random_state=292249176),\n",
       " DecisionTreeRegressor(max_features=1.0, random_state=1686997841),\n",
       " DecisionTreeRegressor(max_features=1.0, random_state=1827923621),\n",
       " DecisionTreeRegressor(max_features=1.0, random_state=1443447321),\n",
       " DecisionTreeRegressor(max_features=1.0, random_state=305097549),\n",
       " DecisionTreeRegressor(max_features=1.0, random_state=1449105480),\n",
       " DecisionTreeRegressor(max_features=1.0, random_state=374217481),\n",
       " DecisionTreeRegressor(max_features=1.0, random_state=636393364),\n",
       " DecisionTreeRegressor(max_features=1.0, random_state=86837363),\n",
       " DecisionTreeRegressor(max_features=1.0, random_state=1581585360),\n",
       " DecisionTreeRegressor(max_features=1.0, random_state=1428591347),\n",
       " DecisionTreeRegressor(max_features=1.0, random_state=1963466437),\n",
       " DecisionTreeRegressor(max_features=1.0, random_state=1194674174),\n",
       " DecisionTreeRegressor(max_features=1.0, random_state=602801999),\n",
       " DecisionTreeRegressor(max_features=1.0, random_state=1589190063),\n",
       " DecisionTreeRegressor(max_features=1.0, random_state=1589512640),\n",
       " DecisionTreeRegressor(max_features=1.0, random_state=2055650130),\n",
       " DecisionTreeRegressor(max_features=1.0, random_state=2034131043),\n",
       " DecisionTreeRegressor(max_features=1.0, random_state=1284876248),\n",
       " DecisionTreeRegressor(max_features=1.0, random_state=1292401841),\n",
       " DecisionTreeRegressor(max_features=1.0, random_state=1982038771),\n",
       " DecisionTreeRegressor(max_features=1.0, random_state=87950109),\n",
       " DecisionTreeRegressor(max_features=1.0, random_state=1204863635),\n",
       " DecisionTreeRegressor(max_features=1.0, random_state=768281747),\n",
       " DecisionTreeRegressor(max_features=1.0, random_state=507984782),\n",
       " DecisionTreeRegressor(max_features=1.0, random_state=947610023),\n",
       " DecisionTreeRegressor(max_features=1.0, random_state=600956192),\n",
       " DecisionTreeRegressor(max_features=1.0, random_state=352272321),\n",
       " DecisionTreeRegressor(max_features=1.0, random_state=615697673),\n",
       " DecisionTreeRegressor(max_features=1.0, random_state=160516793),\n",
       " DecisionTreeRegressor(max_features=1.0, random_state=1909838463),\n",
       " DecisionTreeRegressor(max_features=1.0, random_state=1110745632),\n",
       " DecisionTreeRegressor(max_features=1.0, random_state=93837855),\n",
       " DecisionTreeRegressor(max_features=1.0, random_state=454869706),\n",
       " DecisionTreeRegressor(max_features=1.0, random_state=1780959476),\n",
       " DecisionTreeRegressor(max_features=1.0, random_state=2034098327),\n",
       " DecisionTreeRegressor(max_features=1.0, random_state=1136257699),\n",
       " DecisionTreeRegressor(max_features=1.0, random_state=800291326),\n",
       " DecisionTreeRegressor(max_features=1.0, random_state=1177824715),\n",
       " DecisionTreeRegressor(max_features=1.0, random_state=1017555826),\n",
       " DecisionTreeRegressor(max_features=1.0, random_state=1959150775),\n",
       " DecisionTreeRegressor(max_features=1.0, random_state=930076700),\n",
       " DecisionTreeRegressor(max_features=1.0, random_state=293921570),\n",
       " DecisionTreeRegressor(max_features=1.0, random_state=580757632),\n",
       " DecisionTreeRegressor(max_features=1.0, random_state=80701568),\n",
       " DecisionTreeRegressor(max_features=1.0, random_state=1392175012),\n",
       " DecisionTreeRegressor(max_features=1.0, random_state=505240629),\n",
       " DecisionTreeRegressor(max_features=1.0, random_state=642848645),\n",
       " DecisionTreeRegressor(max_features=1.0, random_state=481447462),\n",
       " DecisionTreeRegressor(max_features=1.0, random_state=954863080),\n",
       " DecisionTreeRegressor(max_features=1.0, random_state=502227700),\n",
       " DecisionTreeRegressor(max_features=1.0, random_state=1659957521),\n",
       " DecisionTreeRegressor(max_features=1.0, random_state=1905883471),\n",
       " DecisionTreeRegressor(max_features=1.0, random_state=1729147268),\n",
       " DecisionTreeRegressor(max_features=1.0, random_state=780912233),\n",
       " DecisionTreeRegressor(max_features=1.0, random_state=1932520490),\n",
       " DecisionTreeRegressor(max_features=1.0, random_state=1544074682),\n",
       " DecisionTreeRegressor(max_features=1.0, random_state=485603871),\n",
       " DecisionTreeRegressor(max_features=1.0, random_state=1877037944),\n",
       " DecisionTreeRegressor(max_features=1.0, random_state=1728073985),\n",
       " DecisionTreeRegressor(max_features=1.0, random_state=848819521),\n",
       " DecisionTreeRegressor(max_features=1.0, random_state=426405863),\n",
       " DecisionTreeRegressor(max_features=1.0, random_state=258666409),\n",
       " DecisionTreeRegressor(max_features=1.0, random_state=2017814585),\n",
       " DecisionTreeRegressor(max_features=1.0, random_state=716257571),\n",
       " DecisionTreeRegressor(max_features=1.0, random_state=657731430),\n",
       " DecisionTreeRegressor(max_features=1.0, random_state=732884087),\n",
       " DecisionTreeRegressor(max_features=1.0, random_state=734051083),\n",
       " DecisionTreeRegressor(max_features=1.0, random_state=903586222),\n",
       " DecisionTreeRegressor(max_features=1.0, random_state=1538251858),\n",
       " DecisionTreeRegressor(max_features=1.0, random_state=553734235),\n",
       " DecisionTreeRegressor(max_features=1.0, random_state=1076688768),\n",
       " DecisionTreeRegressor(max_features=1.0, random_state=1354754446),\n",
       " DecisionTreeRegressor(max_features=1.0, random_state=463129187),\n",
       " DecisionTreeRegressor(max_features=1.0, random_state=1562125877),\n",
       " DecisionTreeRegressor(max_features=1.0, random_state=1396067212),\n",
       " DecisionTreeRegressor(max_features=1.0, random_state=301492857),\n",
       " DecisionTreeRegressor(max_features=1.0, random_state=165035946),\n",
       " DecisionTreeRegressor(max_features=1.0, random_state=1883779156),\n",
       " DecisionTreeRegressor(max_features=1.0, random_state=576702667),\n",
       " DecisionTreeRegressor(max_features=1.0, random_state=2097549636),\n",
       " DecisionTreeRegressor(max_features=1.0, random_state=1971172102),\n",
       " DecisionTreeRegressor(max_features=1.0, random_state=438279108),\n",
       " DecisionTreeRegressor(max_features=1.0, random_state=656229423),\n",
       " DecisionTreeRegressor(max_features=1.0, random_state=897118847),\n",
       " DecisionTreeRegressor(max_features=1.0, random_state=580073460),\n",
       " DecisionTreeRegressor(max_features=1.0, random_state=692819075),\n",
       " DecisionTreeRegressor(max_features=1.0, random_state=2127295436),\n",
       " DecisionTreeRegressor(max_features=1.0, random_state=657595236),\n",
       " DecisionTreeRegressor(max_features=1.0, random_state=351544500),\n",
       " DecisionTreeRegressor(max_features=1.0, random_state=1087879144),\n",
       " DecisionTreeRegressor(max_features=1.0, random_state=1779699534),\n",
       " DecisionTreeRegressor(max_features=1.0, random_state=2002789519),\n",
       " DecisionTreeRegressor(max_features=1.0, random_state=2038810260),\n",
       " DecisionTreeRegressor(max_features=1.0, random_state=1049799907),\n",
       " DecisionTreeRegressor(max_features=1.0, random_state=530471866),\n",
       " DecisionTreeRegressor(max_features=1.0, random_state=682769175),\n",
       " DecisionTreeRegressor(max_features=1.0, random_state=1451731663),\n",
       " DecisionTreeRegressor(max_features=1.0, random_state=474057613),\n",
       " DecisionTreeRegressor(max_features=1.0, random_state=750555509),\n",
       " DecisionTreeRegressor(max_features=1.0, random_state=671430485),\n",
       " DecisionTreeRegressor(max_features=1.0, random_state=1362371120),\n",
       " DecisionTreeRegressor(max_features=1.0, random_state=593491249),\n",
       " DecisionTreeRegressor(max_features=1.0, random_state=1195484741),\n",
       " DecisionTreeRegressor(max_features=1.0, random_state=844314793),\n",
       " DecisionTreeRegressor(max_features=1.0, random_state=1930892963),\n",
       " DecisionTreeRegressor(max_features=1.0, random_state=1583662528),\n",
       " DecisionTreeRegressor(max_features=1.0, random_state=698047583),\n",
       " DecisionTreeRegressor(max_features=1.0, random_state=1378655429),\n",
       " DecisionTreeRegressor(max_features=1.0, random_state=58289758),\n",
       " DecisionTreeRegressor(max_features=1.0, random_state=417046784),\n",
       " DecisionTreeRegressor(max_features=1.0, random_state=527619953),\n",
       " DecisionTreeRegressor(max_features=1.0, random_state=1451462322),\n",
       " DecisionTreeRegressor(max_features=1.0, random_state=745862436),\n",
       " DecisionTreeRegressor(max_features=1.0, random_state=412739490),\n",
       " DecisionTreeRegressor(max_features=1.0, random_state=2026988336),\n",
       " DecisionTreeRegressor(max_features=1.0, random_state=2046377821),\n",
       " DecisionTreeRegressor(max_features=1.0, random_state=1624328579),\n",
       " DecisionTreeRegressor(max_features=1.0, random_state=2012841570),\n",
       " DecisionTreeRegressor(max_features=1.0, random_state=41336362),\n",
       " DecisionTreeRegressor(max_features=1.0, random_state=2047673293),\n",
       " DecisionTreeRegressor(max_features=1.0, random_state=239292784),\n",
       " DecisionTreeRegressor(max_features=1.0, random_state=450308071),\n",
       " DecisionTreeRegressor(max_features=1.0, random_state=1937714069),\n",
       " DecisionTreeRegressor(max_features=1.0, random_state=1027629257),\n",
       " DecisionTreeRegressor(max_features=1.0, random_state=85846399),\n",
       " DecisionTreeRegressor(max_features=1.0, random_state=168310272),\n",
       " DecisionTreeRegressor(max_features=1.0, random_state=1897133962),\n",
       " DecisionTreeRegressor(max_features=1.0, random_state=1214646642),\n",
       " DecisionTreeRegressor(max_features=1.0, random_state=2059809323),\n",
       " DecisionTreeRegressor(max_features=1.0, random_state=516240314),\n",
       " DecisionTreeRegressor(max_features=1.0, random_state=1543802239),\n",
       " DecisionTreeRegressor(max_features=1.0, random_state=1271912471),\n",
       " DecisionTreeRegressor(max_features=1.0, random_state=2065422011),\n",
       " DecisionTreeRegressor(max_features=1.0, random_state=509931650),\n",
       " DecisionTreeRegressor(max_features=1.0, random_state=810293625),\n",
       " DecisionTreeRegressor(max_features=1.0, random_state=1365727330),\n",
       " DecisionTreeRegressor(max_features=1.0, random_state=1634131518),\n",
       " DecisionTreeRegressor(max_features=1.0, random_state=1779245987),\n",
       " DecisionTreeRegressor(max_features=1.0, random_state=1796307678),\n",
       " DecisionTreeRegressor(max_features=1.0, random_state=275511419),\n",
       " DecisionTreeRegressor(max_features=1.0, random_state=931243971),\n",
       " DecisionTreeRegressor(max_features=1.0, random_state=826661458),\n",
       " DecisionTreeRegressor(max_features=1.0, random_state=279984046),\n",
       " DecisionTreeRegressor(max_features=1.0, random_state=286051043),\n",
       " DecisionTreeRegressor(max_features=1.0, random_state=1568103572),\n",
       " DecisionTreeRegressor(max_features=1.0, random_state=1139839185),\n",
       " DecisionTreeRegressor(max_features=1.0, random_state=38521394),\n",
       " DecisionTreeRegressor(max_features=1.0, random_state=99849627),\n",
       " DecisionTreeRegressor(max_features=1.0, random_state=1789811470),\n",
       " DecisionTreeRegressor(max_features=1.0, random_state=403471401),\n",
       " DecisionTreeRegressor(max_features=1.0, random_state=1808858170),\n",
       " DecisionTreeRegressor(max_features=1.0, random_state=326187713),\n",
       " DecisionTreeRegressor(max_features=1.0, random_state=356965412),\n",
       " DecisionTreeRegressor(max_features=1.0, random_state=1843813130),\n",
       " DecisionTreeRegressor(max_features=1.0, random_state=1192792150),\n",
       " DecisionTreeRegressor(max_features=1.0, random_state=1368243243),\n",
       " DecisionTreeRegressor(max_features=1.0, random_state=40186728),\n",
       " DecisionTreeRegressor(max_features=1.0, random_state=719022091),\n",
       " DecisionTreeRegressor(max_features=1.0, random_state=1470348034),\n",
       " DecisionTreeRegressor(max_features=1.0, random_state=566067507),\n",
       " DecisionTreeRegressor(max_features=1.0, random_state=632108112),\n",
       " DecisionTreeRegressor(max_features=1.0, random_state=929118240),\n",
       " DecisionTreeRegressor(max_features=1.0, random_state=1466242230),\n",
       " DecisionTreeRegressor(max_features=1.0, random_state=1242989696),\n",
       " DecisionTreeRegressor(max_features=1.0, random_state=1137007398),\n",
       " DecisionTreeRegressor(max_features=1.0, random_state=786800915),\n",
       " DecisionTreeRegressor(max_features=1.0, random_state=1708627118),\n",
       " DecisionTreeRegressor(max_features=1.0, random_state=371570218),\n",
       " DecisionTreeRegressor(max_features=1.0, random_state=226866547),\n",
       " DecisionTreeRegressor(max_features=1.0, random_state=86361272),\n",
       " DecisionTreeRegressor(max_features=1.0, random_state=708413884),\n",
       " DecisionTreeRegressor(max_features=1.0, random_state=1412786664),\n",
       " DecisionTreeRegressor(max_features=1.0, random_state=1588313677),\n",
       " DecisionTreeRegressor(max_features=1.0, random_state=20166942),\n",
       " DecisionTreeRegressor(max_features=1.0, random_state=628962584),\n",
       " DecisionTreeRegressor(max_features=1.0, random_state=763716221),\n",
       " DecisionTreeRegressor(max_features=1.0, random_state=299008770),\n",
       " DecisionTreeRegressor(max_features=1.0, random_state=1159675395),\n",
       " DecisionTreeRegressor(max_features=1.0, random_state=875044958),\n",
       " DecisionTreeRegressor(max_features=1.0, random_state=1010150626),\n",
       " DecisionTreeRegressor(max_features=1.0, random_state=1238996843),\n",
       " DecisionTreeRegressor(max_features=1.0, random_state=1985084685),\n",
       " DecisionTreeRegressor(max_features=1.0, random_state=1860958064),\n",
       " DecisionTreeRegressor(max_features=1.0, random_state=1068386600),\n",
       " DecisionTreeRegressor(max_features=1.0, random_state=1099969864),\n",
       " DecisionTreeRegressor(max_features=1.0, random_state=327093267),\n",
       " DecisionTreeRegressor(max_features=1.0, random_state=1701229151),\n",
       " DecisionTreeRegressor(max_features=1.0, random_state=395317064),\n",
       " DecisionTreeRegressor(max_features=1.0, random_state=1700971930),\n",
       " DecisionTreeRegressor(max_features=1.0, random_state=310319554),\n",
       " DecisionTreeRegressor(max_features=1.0, random_state=596661496),\n",
       " DecisionTreeRegressor(max_features=1.0, random_state=958128308),\n",
       " DecisionTreeRegressor(max_features=1.0, random_state=1681713475),\n",
       " DecisionTreeRegressor(max_features=1.0, random_state=1944542188),\n",
       " DecisionTreeRegressor(max_features=1.0, random_state=773332797),\n",
       " DecisionTreeRegressor(max_features=1.0, random_state=1920388878),\n",
       " DecisionTreeRegressor(max_features=1.0, random_state=1929289568),\n",
       " DecisionTreeRegressor(max_features=1.0, random_state=1487813892),\n",
       " DecisionTreeRegressor(max_features=1.0, random_state=2055446467),\n",
       " DecisionTreeRegressor(max_features=1.0, random_state=856756973),\n",
       " DecisionTreeRegressor(max_features=1.0, random_state=499083403),\n",
       " DecisionTreeRegressor(max_features=1.0, random_state=1277481980),\n",
       " DecisionTreeRegressor(max_features=1.0, random_state=1146858070),\n",
       " DecisionTreeRegressor(max_features=1.0, random_state=1347751373),\n",
       " DecisionTreeRegressor(max_features=1.0, random_state=1768754041),\n",
       " DecisionTreeRegressor(max_features=1.0, random_state=1702979181),\n",
       " DecisionTreeRegressor(max_features=1.0, random_state=753505099),\n",
       " DecisionTreeRegressor(max_features=1.0, random_state=1636825784),\n",
       " DecisionTreeRegressor(max_features=1.0, random_state=1072866832),\n",
       " DecisionTreeRegressor(max_features=1.0, random_state=349064344),\n",
       " DecisionTreeRegressor(max_features=1.0, random_state=1345262493),\n",
       " DecisionTreeRegressor(max_features=1.0, random_state=1639540885),\n",
       " DecisionTreeRegressor(max_features=1.0, random_state=1998947438),\n",
       " DecisionTreeRegressor(max_features=1.0, random_state=826916889),\n",
       " DecisionTreeRegressor(max_features=1.0, random_state=379954640),\n",
       " DecisionTreeRegressor(max_features=1.0, random_state=967459772),\n",
       " DecisionTreeRegressor(max_features=1.0, random_state=685770617),\n",
       " DecisionTreeRegressor(max_features=1.0, random_state=5688182),\n",
       " DecisionTreeRegressor(max_features=1.0, random_state=142619765),\n",
       " DecisionTreeRegressor(max_features=1.0, random_state=1958864317),\n",
       " DecisionTreeRegressor(max_features=1.0, random_state=990131795),\n",
       " DecisionTreeRegressor(max_features=1.0, random_state=618433185),\n",
       " DecisionTreeRegressor(max_features=1.0, random_state=1695950696),\n",
       " DecisionTreeRegressor(max_features=1.0, random_state=1820443552),\n",
       " DecisionTreeRegressor(max_features=1.0, random_state=510278884),\n",
       " DecisionTreeRegressor(max_features=1.0, random_state=456955387),\n",
       " DecisionTreeRegressor(max_features=1.0, random_state=2039540475),\n",
       " DecisionTreeRegressor(max_features=1.0, random_state=82434169),\n",
       " DecisionTreeRegressor(max_features=1.0, random_state=2019202374),\n",
       " DecisionTreeRegressor(max_features=1.0, random_state=1295253973),\n",
       " DecisionTreeRegressor(max_features=1.0, random_state=928033055),\n",
       " DecisionTreeRegressor(max_features=1.0, random_state=687940109),\n",
       " DecisionTreeRegressor(max_features=1.0, random_state=1236911943),\n",
       " DecisionTreeRegressor(max_features=1.0, random_state=1245873848),\n",
       " DecisionTreeRegressor(max_features=1.0, random_state=1646957720),\n",
       " DecisionTreeRegressor(max_features=1.0, random_state=506872399),\n",
       " DecisionTreeRegressor(max_features=1.0, random_state=1070176297),\n",
       " DecisionTreeRegressor(max_features=1.0, random_state=1841547538),\n",
       " DecisionTreeRegressor(max_features=1.0, random_state=1625439784),\n",
       " DecisionTreeRegressor(max_features=1.0, random_state=581856694),\n",
       " DecisionTreeRegressor(max_features=1.0, random_state=441794767),\n",
       " DecisionTreeRegressor(max_features=1.0, random_state=1281112843),\n",
       " DecisionTreeRegressor(max_features=1.0, random_state=396742822),\n",
       " DecisionTreeRegressor(max_features=1.0, random_state=300497007),\n",
       " DecisionTreeRegressor(max_features=1.0, random_state=1520618845),\n",
       " DecisionTreeRegressor(max_features=1.0, random_state=390295545),\n",
       " DecisionTreeRegressor(max_features=1.0, random_state=222549121),\n",
       " DecisionTreeRegressor(max_features=1.0, random_state=319224543),\n",
       " DecisionTreeRegressor(max_features=1.0, random_state=144418678),\n",
       " DecisionTreeRegressor(max_features=1.0, random_state=657992492),\n",
       " DecisionTreeRegressor(max_features=1.0, random_state=2014175448),\n",
       " DecisionTreeRegressor(max_features=1.0, random_state=653278589),\n",
       " DecisionTreeRegressor(max_features=1.0, random_state=1378672664),\n",
       " DecisionTreeRegressor(max_features=1.0, random_state=1852928067),\n",
       " DecisionTreeRegressor(max_features=1.0, random_state=950315986),\n",
       " DecisionTreeRegressor(max_features=1.0, random_state=1703154671),\n",
       " DecisionTreeRegressor(max_features=1.0, random_state=606723843),\n",
       " DecisionTreeRegressor(max_features=1.0, random_state=1578666218),\n",
       " DecisionTreeRegressor(max_features=1.0, random_state=417728204),\n",
       " DecisionTreeRegressor(max_features=1.0, random_state=1872025574),\n",
       " DecisionTreeRegressor(max_features=1.0, random_state=2078945571),\n",
       " DecisionTreeRegressor(max_features=1.0, random_state=1683298006),\n",
       " DecisionTreeRegressor(max_features=1.0, random_state=1118155774),\n",
       " DecisionTreeRegressor(max_features=1.0, random_state=1315093181),\n",
       " DecisionTreeRegressor(max_features=1.0, random_state=159010501),\n",
       " DecisionTreeRegressor(max_features=1.0, random_state=875694807),\n",
       " DecisionTreeRegressor(max_features=1.0, random_state=1923828267),\n",
       " DecisionTreeRegressor(max_features=1.0, random_state=430471200),\n",
       " DecisionTreeRegressor(max_features=1.0, random_state=427645963),\n",
       " DecisionTreeRegressor(max_features=1.0, random_state=1801664104),\n",
       " DecisionTreeRegressor(max_features=1.0, random_state=1513167060),\n",
       " DecisionTreeRegressor(max_features=1.0, random_state=920159370),\n",
       " DecisionTreeRegressor(max_features=1.0, random_state=2015409846),\n",
       " DecisionTreeRegressor(max_features=1.0, random_state=2142531563),\n",
       " DecisionTreeRegressor(max_features=1.0, random_state=1465185701)]"
      ]
     },
     "execution_count": 13,
     "metadata": {},
     "output_type": "execute_result"
    }
   ],
   "source": [
    "model.estimators_"
   ]
  },
  {
   "cell_type": "code",
   "execution_count": 14,
   "id": "3c6affcf-db99-40c7-a3a3-2df1f5173910",
   "metadata": {},
   "outputs": [
    {
     "data": {
      "text/plain": [
       "(300, 5360)"
      ]
     },
     "execution_count": 14,
     "metadata": {},
     "output_type": "execute_result"
    }
   ],
   "source": [
    "pred_y = [est.predict(test_X.values) for est in model.estimators_]\n",
    "proba_preds = np.array(pred_y)\n",
    "proba_preds.shape  # (num_predictors, num_samples)"
   ]
  },
  {
   "cell_type": "code",
   "execution_count": 18,
   "id": "352d1475-910b-4e92-af51-3ed6092afe63",
   "metadata": {},
   "outputs": [
    {
     "data": {
      "text/plain": [
       "array([ 9.70800018, 35.9469986 , 15.125     , ...,  3.86899996,\n",
       "        4.99499989, 35.17399979])"
      ]
     },
     "execution_count": 18,
     "metadata": {},
     "output_type": "execute_result"
    }
   ],
   "source": [
    "proba_preds[0]"
   ]
  },
  {
   "cell_type": "code",
   "execution_count": 19,
   "id": "32810a2c-faec-443b-8500-afe754fd8916",
   "metadata": {},
   "outputs": [
    {
     "name": "stdout",
     "output_type": "stream",
     "text": [
      "[0.025, 0.05, 0.1, 0.15, 0.2, 0.25, 0.3, 0.35, 0.4, 0.45, 0.5, 0.55, 0.6, 0.65, 0.7, 0.75, 0.8, 0.85, 0.9, 0.95, 0.975] 21\n"
     ]
    },
    {
     "data": {
      "text/html": [
       "<div>\n",
       "<style scoped>\n",
       "    .dataframe tbody tr th:only-of-type {\n",
       "        vertical-align: middle;\n",
       "    }\n",
       "\n",
       "    .dataframe tbody tr th {\n",
       "        vertical-align: top;\n",
       "    }\n",
       "\n",
       "    .dataframe thead th {\n",
       "        text-align: right;\n",
       "    }\n",
       "</style>\n",
       "<table border=\"1\" class=\"dataframe\">\n",
       "  <thead>\n",
       "    <tr style=\"text-align: right;\">\n",
       "      <th></th>\n",
       "      <th>id</th>\n",
       "      <th>0.025</th>\n",
       "      <th>0.05</th>\n",
       "      <th>0.1</th>\n",
       "      <th>0.15</th>\n",
       "      <th>0.2</th>\n",
       "      <th>0.25</th>\n",
       "      <th>0.3</th>\n",
       "      <th>0.35</th>\n",
       "      <th>0.4</th>\n",
       "      <th>...</th>\n",
       "      <th>0.55</th>\n",
       "      <th>0.6</th>\n",
       "      <th>0.65</th>\n",
       "      <th>0.7</th>\n",
       "      <th>0.75</th>\n",
       "      <th>0.8</th>\n",
       "      <th>0.85</th>\n",
       "      <th>0.9</th>\n",
       "      <th>0.95</th>\n",
       "      <th>0.975</th>\n",
       "    </tr>\n",
       "  </thead>\n",
       "  <tbody>\n",
       "    <tr>\n",
       "      <th>0</th>\n",
       "      <td>64320</td>\n",
       "      <td>4.573</td>\n",
       "      <td>4.643</td>\n",
       "      <td>5.065</td>\n",
       "      <td>5.1350</td>\n",
       "      <td>5.135</td>\n",
       "      <td>5.276</td>\n",
       "      <td>5.487</td>\n",
       "      <td>5.909</td>\n",
       "      <td>6.092</td>\n",
       "      <td>...</td>\n",
       "      <td>7.6680</td>\n",
       "      <td>8.301</td>\n",
       "      <td>8.512</td>\n",
       "      <td>9.708</td>\n",
       "      <td>10.693</td>\n",
       "      <td>20.8230</td>\n",
       "      <td>20.823000</td>\n",
       "      <td>21.878000</td>\n",
       "      <td>38.701552</td>\n",
       "      <td>39.887001</td>\n",
       "    </tr>\n",
       "    <tr>\n",
       "      <th>1</th>\n",
       "      <td>64321</td>\n",
       "      <td>2.532</td>\n",
       "      <td>2.532</td>\n",
       "      <td>5.065</td>\n",
       "      <td>7.0945</td>\n",
       "      <td>7.527</td>\n",
       "      <td>7.879</td>\n",
       "      <td>7.949</td>\n",
       "      <td>8.090</td>\n",
       "      <td>8.512</td>\n",
       "      <td>...</td>\n",
       "      <td>9.5144</td>\n",
       "      <td>10.130</td>\n",
       "      <td>10.130</td>\n",
       "      <td>10.271</td>\n",
       "      <td>13.788</td>\n",
       "      <td>15.3356</td>\n",
       "      <td>16.672001</td>\n",
       "      <td>34.400002</td>\n",
       "      <td>35.946999</td>\n",
       "      <td>42.278999</td>\n",
       "    </tr>\n",
       "  </tbody>\n",
       "</table>\n",
       "<p>2 rows × 22 columns</p>\n",
       "</div>"
      ],
      "text/plain": [
       "      id  0.025   0.05    0.1    0.15    0.2   0.25    0.3   0.35    0.4  ...  \\\n",
       "0  64320  4.573  4.643  5.065  5.1350  5.135  5.276  5.487  5.909  6.092  ...   \n",
       "1  64321  2.532  2.532  5.065  7.0945  7.527  7.879  7.949  8.090  8.512  ...   \n",
       "\n",
       "     0.55     0.6    0.65     0.7    0.75      0.8       0.85        0.9  \\\n",
       "0  7.6680   8.301   8.512   9.708  10.693  20.8230  20.823000  21.878000   \n",
       "1  9.5144  10.130  10.130  10.271  13.788  15.3356  16.672001  34.400002   \n",
       "\n",
       "        0.95      0.975  \n",
       "0  38.701552  39.887001  \n",
       "1  35.946999  42.278999  \n",
       "\n",
       "[2 rows x 22 columns]"
      ]
     },
     "execution_count": 19,
     "metadata": {},
     "output_type": "execute_result"
    }
   ],
   "source": [
    "quantiles = [0.025,0.05,0.10,0.15,0.20,0.25,0.30,0.35,0.40,0.45,0.50,\n",
    "             0.55,0.60,0.65,0.70,0.75,0.80,0.85,0.90,0.95,0.975]\n",
    "print(quantiles, len(quantiles))\n",
    "\n",
    "quantile_predictions = {\"id\": test_df.id.values}\n",
    "quantile_predictions.update({q: None for q in quantiles})\n",
    "for q in quantiles:\n",
    "    quantile_predictions[q] = np.quantile(proba_preds, q, axis=0)\n",
    "submission_df = pd.DataFrame.from_dict(quantile_predictions)\n",
    "submission_df.head(2)"
   ]
  },
  {
   "cell_type": "code",
   "execution_count": null,
   "id": "02d005d8-f6cf-4e02-b14b-330614af9aee",
   "metadata": {},
   "outputs": [],
   "source": []
  }
 ],
 "metadata": {
  "kernelspec": {
   "display_name": "Python 3 (ipykernel)",
   "language": "python",
   "name": "python3"
  },
  "language_info": {
   "codemirror_mode": {
    "name": "ipython",
    "version": 3
   },
   "file_extension": ".py",
   "mimetype": "text/x-python",
   "name": "python",
   "nbconvert_exporter": "python",
   "pygments_lexer": "ipython3",
   "version": "3.11.8"
  }
 },
 "nbformat": 4,
 "nbformat_minor": 5
}
