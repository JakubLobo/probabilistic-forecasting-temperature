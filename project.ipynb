{
 "cells": [
  {
   "cell_type": "code",
   "execution_count": 17,
   "id": "39f4414c",
   "metadata": {},
   "outputs": [],
   "source": [
    "import pandas as pd\n",
    "import matplotlib.pyplot as plt"
   ]
  },
  {
   "cell_type": "code",
   "execution_count": 5,
   "id": "9ca85687",
   "metadata": {},
   "outputs": [
    {
     "data": {
      "text/html": [
       "<div>\n",
       "<style scoped>\n",
       "    .dataframe tbody tr th:only-of-type {\n",
       "        vertical-align: middle;\n",
       "    }\n",
       "\n",
       "    .dataframe tbody tr th {\n",
       "        vertical-align: top;\n",
       "    }\n",
       "\n",
       "    .dataframe thead th {\n",
       "        text-align: right;\n",
       "    }\n",
       "</style>\n",
       "<table border=\"1\" class=\"dataframe\">\n",
       "  <thead>\n",
       "    <tr style=\"text-align: right;\">\n",
       "      <th></th>\n",
       "      <th>id</th>\n",
       "      <th>feature_AA</th>\n",
       "      <th>feature_AB</th>\n",
       "      <th>feature_BA</th>\n",
       "      <th>feature_BB</th>\n",
       "      <th>feature_CA</th>\n",
       "      <th>feature_CB</th>\n",
       "      <th>Temperature</th>\n",
       "    </tr>\n",
       "    <tr>\n",
       "      <th>date</th>\n",
       "      <th></th>\n",
       "      <th></th>\n",
       "      <th></th>\n",
       "      <th></th>\n",
       "      <th></th>\n",
       "      <th></th>\n",
       "      <th></th>\n",
       "      <th></th>\n",
       "    </tr>\n",
       "  </thead>\n",
       "  <tbody>\n",
       "    <tr>\n",
       "      <th>2016-07-01 00:00:00</th>\n",
       "      <td>0</td>\n",
       "      <td>5.827</td>\n",
       "      <td>2.009</td>\n",
       "      <td>1.599</td>\n",
       "      <td>0.462</td>\n",
       "      <td>4.203</td>\n",
       "      <td>1.340</td>\n",
       "      <td>30.531000</td>\n",
       "    </tr>\n",
       "    <tr>\n",
       "      <th>2016-07-01 00:15:00</th>\n",
       "      <td>1</td>\n",
       "      <td>5.760</td>\n",
       "      <td>2.076</td>\n",
       "      <td>1.492</td>\n",
       "      <td>0.426</td>\n",
       "      <td>4.264</td>\n",
       "      <td>1.401</td>\n",
       "      <td>30.459999</td>\n",
       "    </tr>\n",
       "    <tr>\n",
       "      <th>2016-07-01 00:30:00</th>\n",
       "      <td>2</td>\n",
       "      <td>5.760</td>\n",
       "      <td>1.942</td>\n",
       "      <td>1.492</td>\n",
       "      <td>0.391</td>\n",
       "      <td>4.234</td>\n",
       "      <td>1.310</td>\n",
       "      <td>30.038000</td>\n",
       "    </tr>\n",
       "    <tr>\n",
       "      <th>2016-07-01 00:45:00</th>\n",
       "      <td>3</td>\n",
       "      <td>5.760</td>\n",
       "      <td>1.942</td>\n",
       "      <td>1.492</td>\n",
       "      <td>0.426</td>\n",
       "      <td>4.234</td>\n",
       "      <td>1.310</td>\n",
       "      <td>27.013000</td>\n",
       "    </tr>\n",
       "    <tr>\n",
       "      <th>2016-07-01 01:00:00</th>\n",
       "      <td>4</td>\n",
       "      <td>5.693</td>\n",
       "      <td>2.076</td>\n",
       "      <td>1.492</td>\n",
       "      <td>0.426</td>\n",
       "      <td>4.142</td>\n",
       "      <td>1.371</td>\n",
       "      <td>27.787001</td>\n",
       "    </tr>\n",
       "    <tr>\n",
       "      <th>...</th>\n",
       "      <td>...</td>\n",
       "      <td>...</td>\n",
       "      <td>...</td>\n",
       "      <td>...</td>\n",
       "      <td>...</td>\n",
       "      <td>...</td>\n",
       "      <td>...</td>\n",
       "      <td>...</td>\n",
       "    </tr>\n",
       "    <tr>\n",
       "      <th>2018-05-01 22:45:00</th>\n",
       "      <td>64315</td>\n",
       "      <td>12.458</td>\n",
       "      <td>1.407</td>\n",
       "      <td>7.889</td>\n",
       "      <td>-0.746</td>\n",
       "      <td>4.843</td>\n",
       "      <td>1.523</td>\n",
       "      <td>10.622000</td>\n",
       "    </tr>\n",
       "    <tr>\n",
       "      <th>2018-05-01 23:00:00</th>\n",
       "      <td>64316</td>\n",
       "      <td>14.200</td>\n",
       "      <td>1.541</td>\n",
       "      <td>9.310</td>\n",
       "      <td>0.284</td>\n",
       "      <td>4.752</td>\n",
       "      <td>1.249</td>\n",
       "      <td>10.482000</td>\n",
       "    </tr>\n",
       "    <tr>\n",
       "      <th>2018-05-01 23:15:00</th>\n",
       "      <td>64317</td>\n",
       "      <td>12.659</td>\n",
       "      <td>1.474</td>\n",
       "      <td>7.924</td>\n",
       "      <td>-0.959</td>\n",
       "      <td>4.569</td>\n",
       "      <td>1.310</td>\n",
       "      <td>10.271000</td>\n",
       "    </tr>\n",
       "    <tr>\n",
       "      <th>2018-05-01 23:30:00</th>\n",
       "      <td>64318</td>\n",
       "      <td>13.329</td>\n",
       "      <td>1.541</td>\n",
       "      <td>8.671</td>\n",
       "      <td>-0.533</td>\n",
       "      <td>4.630</td>\n",
       "      <td>1.371</td>\n",
       "      <td>10.341000</td>\n",
       "    </tr>\n",
       "    <tr>\n",
       "      <th>2018-05-01 23:45:00</th>\n",
       "      <td>64319</td>\n",
       "      <td>11.588</td>\n",
       "      <td>0.871</td>\n",
       "      <td>7.214</td>\n",
       "      <td>-0.426</td>\n",
       "      <td>4.691</td>\n",
       "      <td>1.310</td>\n",
       "      <td>10.833000</td>\n",
       "    </tr>\n",
       "  </tbody>\n",
       "</table>\n",
       "<p>64320 rows × 8 columns</p>\n",
       "</div>"
      ],
      "text/plain": [
       "                        id  feature_AA  feature_AB  feature_BA  feature_BB  \\\n",
       "date                                                                         \n",
       "2016-07-01 00:00:00      0       5.827       2.009       1.599       0.462   \n",
       "2016-07-01 00:15:00      1       5.760       2.076       1.492       0.426   \n",
       "2016-07-01 00:30:00      2       5.760       1.942       1.492       0.391   \n",
       "2016-07-01 00:45:00      3       5.760       1.942       1.492       0.426   \n",
       "2016-07-01 01:00:00      4       5.693       2.076       1.492       0.426   \n",
       "...                    ...         ...         ...         ...         ...   \n",
       "2018-05-01 22:45:00  64315      12.458       1.407       7.889      -0.746   \n",
       "2018-05-01 23:00:00  64316      14.200       1.541       9.310       0.284   \n",
       "2018-05-01 23:15:00  64317      12.659       1.474       7.924      -0.959   \n",
       "2018-05-01 23:30:00  64318      13.329       1.541       8.671      -0.533   \n",
       "2018-05-01 23:45:00  64319      11.588       0.871       7.214      -0.426   \n",
       "\n",
       "                     feature_CA  feature_CB  Temperature  \n",
       "date                                                      \n",
       "2016-07-01 00:00:00       4.203       1.340    30.531000  \n",
       "2016-07-01 00:15:00       4.264       1.401    30.459999  \n",
       "2016-07-01 00:30:00       4.234       1.310    30.038000  \n",
       "2016-07-01 00:45:00       4.234       1.310    27.013000  \n",
       "2016-07-01 01:00:00       4.142       1.371    27.787001  \n",
       "...                         ...         ...          ...  \n",
       "2018-05-01 22:45:00       4.843       1.523    10.622000  \n",
       "2018-05-01 23:00:00       4.752       1.249    10.482000  \n",
       "2018-05-01 23:15:00       4.569       1.310    10.271000  \n",
       "2018-05-01 23:30:00       4.630       1.371    10.341000  \n",
       "2018-05-01 23:45:00       4.691       1.310    10.833000  \n",
       "\n",
       "[64320 rows x 8 columns]"
      ]
     },
     "execution_count": 5,
     "metadata": {},
     "output_type": "execute_result"
    }
   ],
   "source": [
    "df = pd.read_csv('data/train.csv', parse_dates=['date'], index_col='date').dropna()\n",
    "df"
   ]
  },
  {
   "cell_type": "code",
   "execution_count": 6,
   "id": "2a85d267",
   "metadata": {},
   "outputs": [],
   "source": [
    "df.drop(columns='id', inplace=True)"
   ]
  },
  {
   "cell_type": "code",
   "execution_count": 7,
   "id": "e3424957",
   "metadata": {},
   "outputs": [
    {
     "data": {
      "text/html": [
       "<div>\n",
       "<style scoped>\n",
       "    .dataframe tbody tr th:only-of-type {\n",
       "        vertical-align: middle;\n",
       "    }\n",
       "\n",
       "    .dataframe tbody tr th {\n",
       "        vertical-align: top;\n",
       "    }\n",
       "\n",
       "    .dataframe thead th {\n",
       "        text-align: right;\n",
       "    }\n",
       "</style>\n",
       "<table border=\"1\" class=\"dataframe\">\n",
       "  <thead>\n",
       "    <tr style=\"text-align: right;\">\n",
       "      <th></th>\n",
       "      <th>feature_AA</th>\n",
       "      <th>feature_AB</th>\n",
       "      <th>feature_BA</th>\n",
       "      <th>feature_BB</th>\n",
       "      <th>feature_CA</th>\n",
       "      <th>feature_CB</th>\n",
       "      <th>Temperature</th>\n",
       "    </tr>\n",
       "    <tr>\n",
       "      <th>date</th>\n",
       "      <th></th>\n",
       "      <th></th>\n",
       "      <th></th>\n",
       "      <th></th>\n",
       "      <th></th>\n",
       "      <th></th>\n",
       "      <th></th>\n",
       "    </tr>\n",
       "  </thead>\n",
       "  <tbody>\n",
       "    <tr>\n",
       "      <th>2016-07-01 00:00:00</th>\n",
       "      <td>5.827</td>\n",
       "      <td>2.009</td>\n",
       "      <td>1.599</td>\n",
       "      <td>0.462</td>\n",
       "      <td>4.203</td>\n",
       "      <td>1.340</td>\n",
       "      <td>30.531000</td>\n",
       "    </tr>\n",
       "    <tr>\n",
       "      <th>2016-07-01 00:15:00</th>\n",
       "      <td>5.760</td>\n",
       "      <td>2.076</td>\n",
       "      <td>1.492</td>\n",
       "      <td>0.426</td>\n",
       "      <td>4.264</td>\n",
       "      <td>1.401</td>\n",
       "      <td>30.459999</td>\n",
       "    </tr>\n",
       "    <tr>\n",
       "      <th>2016-07-01 00:30:00</th>\n",
       "      <td>5.760</td>\n",
       "      <td>1.942</td>\n",
       "      <td>1.492</td>\n",
       "      <td>0.391</td>\n",
       "      <td>4.234</td>\n",
       "      <td>1.310</td>\n",
       "      <td>30.038000</td>\n",
       "    </tr>\n",
       "    <tr>\n",
       "      <th>2016-07-01 00:45:00</th>\n",
       "      <td>5.760</td>\n",
       "      <td>1.942</td>\n",
       "      <td>1.492</td>\n",
       "      <td>0.426</td>\n",
       "      <td>4.234</td>\n",
       "      <td>1.310</td>\n",
       "      <td>27.013000</td>\n",
       "    </tr>\n",
       "    <tr>\n",
       "      <th>2016-07-01 01:00:00</th>\n",
       "      <td>5.693</td>\n",
       "      <td>2.076</td>\n",
       "      <td>1.492</td>\n",
       "      <td>0.426</td>\n",
       "      <td>4.142</td>\n",
       "      <td>1.371</td>\n",
       "      <td>27.787001</td>\n",
       "    </tr>\n",
       "    <tr>\n",
       "      <th>...</th>\n",
       "      <td>...</td>\n",
       "      <td>...</td>\n",
       "      <td>...</td>\n",
       "      <td>...</td>\n",
       "      <td>...</td>\n",
       "      <td>...</td>\n",
       "      <td>...</td>\n",
       "    </tr>\n",
       "    <tr>\n",
       "      <th>2018-05-01 22:45:00</th>\n",
       "      <td>12.458</td>\n",
       "      <td>1.407</td>\n",
       "      <td>7.889</td>\n",
       "      <td>-0.746</td>\n",
       "      <td>4.843</td>\n",
       "      <td>1.523</td>\n",
       "      <td>10.622000</td>\n",
       "    </tr>\n",
       "    <tr>\n",
       "      <th>2018-05-01 23:00:00</th>\n",
       "      <td>14.200</td>\n",
       "      <td>1.541</td>\n",
       "      <td>9.310</td>\n",
       "      <td>0.284</td>\n",
       "      <td>4.752</td>\n",
       "      <td>1.249</td>\n",
       "      <td>10.482000</td>\n",
       "    </tr>\n",
       "    <tr>\n",
       "      <th>2018-05-01 23:15:00</th>\n",
       "      <td>12.659</td>\n",
       "      <td>1.474</td>\n",
       "      <td>7.924</td>\n",
       "      <td>-0.959</td>\n",
       "      <td>4.569</td>\n",
       "      <td>1.310</td>\n",
       "      <td>10.271000</td>\n",
       "    </tr>\n",
       "    <tr>\n",
       "      <th>2018-05-01 23:30:00</th>\n",
       "      <td>13.329</td>\n",
       "      <td>1.541</td>\n",
       "      <td>8.671</td>\n",
       "      <td>-0.533</td>\n",
       "      <td>4.630</td>\n",
       "      <td>1.371</td>\n",
       "      <td>10.341000</td>\n",
       "    </tr>\n",
       "    <tr>\n",
       "      <th>2018-05-01 23:45:00</th>\n",
       "      <td>11.588</td>\n",
       "      <td>0.871</td>\n",
       "      <td>7.214</td>\n",
       "      <td>-0.426</td>\n",
       "      <td>4.691</td>\n",
       "      <td>1.310</td>\n",
       "      <td>10.833000</td>\n",
       "    </tr>\n",
       "  </tbody>\n",
       "</table>\n",
       "<p>64320 rows × 7 columns</p>\n",
       "</div>"
      ],
      "text/plain": [
       "                     feature_AA  feature_AB  feature_BA  feature_BB  \\\n",
       "date                                                                  \n",
       "2016-07-01 00:00:00       5.827       2.009       1.599       0.462   \n",
       "2016-07-01 00:15:00       5.760       2.076       1.492       0.426   \n",
       "2016-07-01 00:30:00       5.760       1.942       1.492       0.391   \n",
       "2016-07-01 00:45:00       5.760       1.942       1.492       0.426   \n",
       "2016-07-01 01:00:00       5.693       2.076       1.492       0.426   \n",
       "...                         ...         ...         ...         ...   \n",
       "2018-05-01 22:45:00      12.458       1.407       7.889      -0.746   \n",
       "2018-05-01 23:00:00      14.200       1.541       9.310       0.284   \n",
       "2018-05-01 23:15:00      12.659       1.474       7.924      -0.959   \n",
       "2018-05-01 23:30:00      13.329       1.541       8.671      -0.533   \n",
       "2018-05-01 23:45:00      11.588       0.871       7.214      -0.426   \n",
       "\n",
       "                     feature_CA  feature_CB  Temperature  \n",
       "date                                                      \n",
       "2016-07-01 00:00:00       4.203       1.340    30.531000  \n",
       "2016-07-01 00:15:00       4.264       1.401    30.459999  \n",
       "2016-07-01 00:30:00       4.234       1.310    30.038000  \n",
       "2016-07-01 00:45:00       4.234       1.310    27.013000  \n",
       "2016-07-01 01:00:00       4.142       1.371    27.787001  \n",
       "...                         ...         ...          ...  \n",
       "2018-05-01 22:45:00       4.843       1.523    10.622000  \n",
       "2018-05-01 23:00:00       4.752       1.249    10.482000  \n",
       "2018-05-01 23:15:00       4.569       1.310    10.271000  \n",
       "2018-05-01 23:30:00       4.630       1.371    10.341000  \n",
       "2018-05-01 23:45:00       4.691       1.310    10.833000  \n",
       "\n",
       "[64320 rows x 7 columns]"
      ]
     },
     "execution_count": 7,
     "metadata": {},
     "output_type": "execute_result"
    }
   ],
   "source": [
    "df"
   ]
  },
  {
   "cell_type": "code",
   "execution_count": 10,
   "id": "bebafb3d",
   "metadata": {},
   "outputs": [
    {
     "data": {
      "text/plain": [
       "<Axes: xlabel='date'>"
      ]
     },
     "execution_count": 10,
     "metadata": {},
     "output_type": "execute_result"
    },
    {
     "data": {
      "image/png": "[encoded data removed]",
      "text/plain": [
       "<Figure size 640x480 with 1 Axes>"
      ]
     },
     "metadata": {},
     "output_type": "display_data"
    }
   ],
   "source": [
    "temp = df.Temperature\n",
    "temp.plot()"
   ]
  },
  {
   "cell_type": "code",
   "execution_count": 11,
   "id": "72cec18d",
   "metadata": {},
   "outputs": [],
   "source": [
    "from statsmodels.tsa.stattools import adfuller"
   ]
  },
  {
   "cell_type": "code",
   "execution_count": 12,
   "id": "badcd78c",
   "metadata": {},
   "outputs": [
    {
     "data": {
      "text/plain": [
       "0.0012137779642670341"
      ]
     },
     "execution_count": 12,
     "metadata": {},
     "output_type": "execute_result"
    }
   ],
   "source": [
    "adfuller(temp)[1]"
   ]
  },
  {
   "cell_type": "code",
   "execution_count": 14,
   "id": "bd4502f4",
   "metadata": {},
   "outputs": [
    {
     "data": {
      "text/plain": [
       "date\n",
       "2016-07-01 00:00:00    30.531000\n",
       "2016-07-01 00:15:00    30.459999\n",
       "2016-07-01 00:30:00    30.038000\n",
       "2016-07-01 00:45:00    27.013000\n",
       "2016-07-01 01:00:00    27.787001\n",
       "                         ...    \n",
       "2018-05-01 22:45:00    10.622000\n",
       "2018-05-01 23:00:00    10.482000\n",
       "2018-05-01 23:15:00    10.271000\n",
       "2018-05-01 23:30:00    10.341000\n",
       "2018-05-01 23:45:00    10.833000\n",
       "Name: Temperature, Length: 64320, dtype: float64"
      ]
     },
     "execution_count": 14,
     "metadata": {},
     "output_type": "execute_result"
    }
   ],
   "source": [
    "temp"
   ]
  },
  {
   "cell_type": "markdown",
   "id": "8071401d",
   "metadata": {},
   "source": [
    "### AR model"
   ]
  },
  {
   "cell_type": "code",
   "execution_count": 13,
   "id": "22fe8824",
   "metadata": {},
   "outputs": [],
   "source": [
    "from statsmodels.tsa.arima.model import ARIMA"
   ]
  },
  {
   "cell_type": "code",
   "execution_count": 15,
   "id": "7d874051",
   "metadata": {},
   "outputs": [
    {
     "name": "stderr",
     "output_type": "stream",
     "text": [
      "/home/kuba/anaconda3/lib/python3.11/site-packages/statsmodels/tsa/base/tsa_model.py:473: ValueWarning: No frequency information was provided, so inferred frequency 15T will be used.\n",
      "  self._init_dates(dates, freq)\n",
      "/home/kuba/anaconda3/lib/python3.11/site-packages/statsmodels/tsa/base/tsa_model.py:473: ValueWarning: No frequency information was provided, so inferred frequency 15T will be used.\n",
      "  self._init_dates(dates, freq)\n",
      "/home/kuba/anaconda3/lib/python3.11/site-packages/statsmodels/tsa/base/tsa_model.py:473: ValueWarning: No frequency information was provided, so inferred frequency 15T will be used.\n",
      "  self._init_dates(dates, freq)\n"
     ]
    }
   ],
   "source": [
    "ar_model = ARIMA(temp, order=(2, 0, 0))"
   ]
  },
  {
   "cell_type": "code",
   "execution_count": 16,
   "id": "c7ef27a5",
   "metadata": {},
   "outputs": [],
   "source": [
    "ar_model_fit = ar_model.fit()"
   ]
  },
  {
   "cell_type": "code",
   "execution_count": 42,
   "id": "e6e8e8c1",
   "metadata": {},
   "outputs": [
    {
     "data": {
      "text/plain": [
       "<matplotlib.legend.Legend at 0x70b86faf8690>"
      ]
     },
     "execution_count": 42,
     "metadata": {},
     "output_type": "execute_result"
    },
    {
     "data": {
      "image/png": "[encoded data removed]",
      "text/plain": [
       "<Figure size 640x480 with 1 Axes>"
      ]
     },
     "metadata": {},
     "output_type": "display_data"
    }
   ],
   "source": [
    "temp.plot(label='Original data')\n",
    "ar_preds = ar_model_fit.predict(0, 65000)\n",
    "ar_preds.plot(label='Model')\n",
    "\n",
    "plt.xlim(ar_preds.index[-750], ar_preds.index[-650])  \n",
    "# Set the limit based on the range of dates in your predictions\n",
    "\n",
    "plt.legend()"
   ]
  },
  {
   "cell_type": "markdown",
   "id": "970d4dd9",
   "metadata": {},
   "source": [
    "### MA model"
   ]
  },
  {
   "cell_type": "code",
   "execution_count": 43,
   "id": "25563542",
   "metadata": {},
   "outputs": [
    {
     "name": "stderr",
     "output_type": "stream",
     "text": [
      "/home/kuba/anaconda3/lib/python3.11/site-packages/statsmodels/tsa/base/tsa_model.py:473: ValueWarning: No frequency information was provided, so inferred frequency 15T will be used.\n",
      "  self._init_dates(dates, freq)\n",
      "/home/kuba/anaconda3/lib/python3.11/site-packages/statsmodels/tsa/base/tsa_model.py:473: ValueWarning: No frequency information was provided, so inferred frequency 15T will be used.\n",
      "  self._init_dates(dates, freq)\n",
      "/home/kuba/anaconda3/lib/python3.11/site-packages/statsmodels/tsa/base/tsa_model.py:473: ValueWarning: No frequency information was provided, so inferred frequency 15T will be used.\n",
      "  self._init_dates(dates, freq)\n",
      "/home/kuba/anaconda3/lib/python3.11/site-packages/statsmodels/tsa/statespace/sarimax.py:978: UserWarning: Non-invertible starting MA parameters found. Using zeros as starting parameters.\n",
      "  warn('Non-invertible starting MA parameters found.'\n"
     ]
    }
   ],
   "source": [
    "ma_model = ARIMA(temp, order=(0, 0, 6))\n",
    "ma_model_fit = ma_model.fit()"
   ]
  },
  {
   "cell_type": "code",
   "execution_count": 44,
   "id": "31c57ca7",
   "metadata": {},
   "outputs": [
    {
     "data": {
      "text/plain": [
       "<matplotlib.legend.Legend at 0x70b86c0902d0>"
      ]
     },
     "execution_count": 44,
     "metadata": {},
     "output_type": "execute_result"
    },
    {
     "data": {
      "image/png": "[encoded data removed]",
      "text/plain": [
       "<Figure size 640x480 with 1 Axes>"
      ]
     },
     "metadata": {},
     "output_type": "display_data"
    }
   ],
   "source": [
    "temp.plot(label='Original data')\n",
    "ma_pred = ma_model_fit.predict(0, 65000)\n",
    "ma_pred.plot(label='Model')\n",
    "plt.xlim(ar_preds.index[-750], ar_preds.index[-650])  \n",
    "plt.legend()"
   ]
  },
  {
   "cell_type": "code",
   "execution_count": null,
   "id": "76424a1c",
   "metadata": {},
   "outputs": [],
   "source": []
  }
 ],
 "metadata": {
  "kernelspec": {
   "display_name": "Python 3 (ipykernel)",
   "language": "python",
   "name": "python3"
  },
  "language_info": {
   "codemirror_mode": {
    "name": "ipython",
    "version": 3
   },
   "file_extension": ".py",
   "mimetype": "text/x-python",
   "name": "python",
   "nbconvert_exporter": "python",
   "pygments_lexer": "ipython3",
   "version": "3.11.5"
  }
 },
 "nbformat": 4,
 "nbformat_minor": 5
}
